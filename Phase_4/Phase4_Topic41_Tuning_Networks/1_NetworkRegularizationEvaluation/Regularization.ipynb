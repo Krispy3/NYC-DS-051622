{
 "cells": [
  {
   "cell_type": "markdown",
   "metadata": {
    "slideshow": {
     "slide_type": "slide"
    }
   },
   "source": [
    "<div style=\"color:white;\n",
    "           display:fill;\n",
    "           border-radius:5px;\n",
    "           background-color:#5642C5;\n",
    "           font-size:200%;\n",
    "           font-family:Arial;letter-spacing:0.5px\">\n",
    "\n",
    "<p width = 20%, style=\"padding: 10px;\n",
    "              color:white;\">\n",
    "Neural Networks: Regularization\n",
    "</p>\n",
    "</div>\n",
    "\n",
    "Data Science Cohort Live NYC Jully 2022\n",
    "<p>Phase 4: Topic 41</p>\n",
    "<br>\n",
    "<br>\n",
    "\n",
    "<div align = \"right\">\n",
    "<img src=\"Images/flatiron-school-logo.png\" align = \"right\" width=\"200\"/>\n",
    "</div>\n",
    "    \n",
    "    "
   ]
  },
  {
   "cell_type": "code",
   "execution_count": 1,
   "metadata": {
    "slideshow": {
     "slide_type": "skip"
    }
   },
   "outputs": [],
   "source": [
    "from sklearn.datasets import load_sample_images\n",
    "from sklearn.datasets import load_digits\n",
    "from sklearn.model_selection import train_test_split, cross_val_score\n",
    "from sklearn.preprocessing import OneHotEncoder\n",
    "from sklearn.metrics import accuracy_score, confusion_matrix\n",
    "import matplotlib.pyplot as plt\n",
    "import matplotlib.image as mpimg\n",
    "import numpy as np\n",
    "import pandas as pd\n",
    "from sklearn.metrics import ConfusionMatrixDisplay\n",
    "import seaborn as sns\n",
    "\n",
    "from tensorflow.keras import datasets\n",
    "from tensorflow.keras.models import Sequential\n",
    "from tensorflow.keras.layers import Dense, Dropout\n",
    "from tensorflow.keras.callbacks import EarlyStopping\n",
    "from tensorflow.keras.utils import to_categorical\n",
    "from tensorflow.keras.layers import Flatten # takes 2D input and turns into 1D array\n",
    "\n",
    "import os\n",
    "import sys\n",
    "module_path = os.path.abspath(os.path.join(os.pardir, os.pardir))\n",
    "if module_path not in sys.path:\n",
    "    sys.path.append(module_path)\n",
    "    \n",
    "%load_ext autoreload\n",
    "%autoreload 2"
   ]
  },
  {
   "cell_type": "markdown",
   "metadata": {
    "slideshow": {
     "slide_type": "slide"
    }
   },
   "source": [
    "### Things to remember:\n"
   ]
  },
  {
   "cell_type": "markdown",
   "metadata": {
    "slideshow": {
     "slide_type": "fragment"
    }
   },
   "source": [
    "## STEPS ##\n",
    "\n",
    "1. Load Data\n",
    "2. Define Keras Model\n",
    "3. Compile Keras Model\n",
    "4. Fit Keras Model\n",
    "5. Evaluate Keras Model\n",
    "6. Make Predictions"
   ]
  },
  {
   "cell_type": "markdown",
   "metadata": {
    "slideshow": {
     "slide_type": "fragment"
    }
   },
   "source": [
    "\n",
    "- The data and labels in `fit()` need to be numpy arrays, not `pandas` dfs.\n",
    "- Scaling your data will have a large impact on your model.\n",
    "   > For our traditional input features, we would use a scaler object. For images, as long as the minimum value is 0, we can simply divide through by the maximum pixel intensity."
   ]
  },
  {
   "cell_type": "markdown",
   "metadata": {
    "slideshow": {
     "slide_type": "slide"
    }
   },
   "source": [
    "#### Regularization\n",
    "- Retain complexity of neural network: many weights to learn interesting relationships\n",
    "- Make our weights less susceptible to overfitting\n",
    "\n",
    "**Getting neural networks to perform really well**"
   ]
  },
  {
   "cell_type": "markdown",
   "metadata": {
    "slideshow": {
     "slide_type": "slide"
    }
   },
   "source": [
    "In neural networks, two main forms of regularization:\n",
    "- L2 Regularization (something familiar)\n",
    "- Dropout Regularization (something a little new)"
   ]
  },
  {
   "cell_type": "markdown",
   "metadata": {
    "slideshow": {
     "slide_type": "slide"
    }
   },
   "source": [
    "**L2 Regularization**\n",
    "\n",
    "- Add penalty on weight **matrices**.\n",
    "$$ J \\rightarrow J' $$\n",
    "$$ J = \\sum_{i=1}^m \\frac{1}{m}L(y_i, \\hat{y}_i) $$\n",
    "$$ J' = \\sum_{i=1}^m \\frac{1}{m}L(y_i, \\hat{y}_i) + \\frac{\\lambda}{2} \\sum_{l=1}^L \\lVert  W^{[l]}   \\rVert_F^2 $$"
   ]
  },
  {
   "cell_type": "markdown",
   "metadata": {
    "slideshow": {
     "slide_type": "fragment"
    }
   },
   "source": [
    "where $F$ denotes the Frobenius norm."
   ]
  },
  {
   "cell_type": "markdown",
   "metadata": {
    "cell_style": "center",
    "slideshow": {
     "slide_type": "slide"
    }
   },
   "source": [
    "Frobenius norm is square root of sum of of element-wise square:\n",
    "i.e. \n",
    "$$ \\lVert  A   \\rVert_F = \\sqrt{\\sum_{i,j} A_{ij}^2 }$$"
   ]
  },
  {
   "cell_type": "code",
   "execution_count": 2,
   "metadata": {
    "slideshow": {
     "slide_type": "fragment"
    }
   },
   "outputs": [],
   "source": [
    "import numpy as np\n",
    "from numpy.linalg import norm"
   ]
  },
  {
   "cell_type": "code",
   "execution_count": 3,
   "metadata": {
    "cell_style": "split",
    "slideshow": {
     "slide_type": "fragment"
    }
   },
   "outputs": [
    {
     "data": {
      "text/plain": [
       "array([[1, 2],\n",
       "       [0, 3]])"
      ]
     },
     "execution_count": 3,
     "metadata": {},
     "output_type": "execute_result"
    }
   ],
   "source": [
    "A = np.array([[1,2],[0,3]])\n",
    "A"
   ]
  },
  {
   "cell_type": "code",
   "execution_count": 4,
   "metadata": {
    "cell_style": "split",
    "slideshow": {
     "slide_type": "fragment"
    }
   },
   "outputs": [
    {
     "data": {
      "text/plain": [
       "3.7416573867739413"
      ]
     },
     "execution_count": 4,
     "metadata": {},
     "output_type": "execute_result"
    }
   ],
   "source": [
    "norm(A, 'fro')"
   ]
  },
  {
   "cell_type": "code",
   "execution_count": 5,
   "metadata": {
    "cell_style": "split",
    "slideshow": {
     "slide_type": "fragment"
    }
   },
   "outputs": [
    {
     "data": {
      "text/plain": [
       "3.7416573867739413"
      ]
     },
     "execution_count": 5,
     "metadata": {},
     "output_type": "execute_result"
    }
   ],
   "source": [
    "np.sqrt(1**2 + 0**2 + 2**2 + 3**2)"
   ]
  },
  {
   "cell_type": "markdown",
   "metadata": {
    "cell_style": "split",
    "slideshow": {
     "slide_type": "slide"
    }
   },
   "source": [
    "Modiied objective functon:\n",
    "\n",
    "$$ J' = \\sum_{i=1}^m \\frac{1}{m}L(y_i, \\hat{y}_i) + \\frac{\\lambda}{2} \\sum_{l=1}^L \\lVert  W^{[l]}   \\rVert_F^2 $$"
   ]
  },
  {
   "cell_type": "markdown",
   "metadata": {
    "cell_style": "split",
    "slideshow": {
     "slide_type": "fragment"
    }
   },
   "source": [
    "Regularization serves to penalize any particular weight from being too large:\n",
    "- smoothens/redistributes weights for each weight matrix\n",
    "- aids in generalization"
   ]
  },
  {
   "cell_type": "markdown",
   "metadata": {
    "cell_style": "center",
    "slideshow": {
     "slide_type": "slide"
    }
   },
   "source": [
    "L2 regularization: often known as weight decay\n",
    "- Perspective: gradient descent\n",
    "$$ J' = \\sum_{i=1}^m \\frac{1}{m}L(y_i, \\hat{y}_i) + \\frac{\\lambda}{2} \\sum_{l=1}^L \\lVert  W^{[l]}   \\rVert_F^2 $$\n",
    "$$ W^{[l]} \\rightarrow W^{[l]} - \\alpha \\frac{\\partial J'}{\\partial W^{[l]}} $$ "
   ]
  },
  {
   "cell_type": "markdown",
   "metadata": {
    "cell_style": "center",
    "slideshow": {
     "slide_type": "fragment"
    }
   },
   "source": [
    "$$ J = \\sum_{i=1}^m \\frac{1}{m}L(y_i, \\hat{y}_i) $$\n",
    "$$ W^{[l]} \\rightarrow \\Big(W^{[l]}  - \\alpha \\frac{\\lambda}{2 m}  W^{[l]} \\Big) - \\alpha \\frac{\\partial J}{\\partial W^{[l]}}$$ \n",
    "\n",
    "- At each iteration regularization tries to reduce magnitude of weight matrix."
   ]
  },
  {
   "cell_type": "markdown",
   "metadata": {
    "slideshow": {
     "slide_type": "slide"
    }
   },
   "source": [
    "#### Implementing L2 regularization in Keras"
   ]
  },
  {
   "cell_type": "code",
   "execution_count": 6,
   "metadata": {
    "slideshow": {
     "slide_type": "fragment"
    }
   },
   "outputs": [],
   "source": [
    "# creates keras regularizer object\n",
    "from tensorflow.keras.regularizers import l2"
   ]
  },
  {
   "cell_type": "markdown",
   "metadata": {
    "cell_style": "center",
    "slideshow": {
     "slide_type": "slide"
    }
   },
   "source": [
    "L2 regularizer object takes in $\\lambda$ parameter as argument"
   ]
  },
  {
   "cell_type": "code",
   "execution_count": 7,
   "metadata": {
    "cell_style": "center",
    "slideshow": {
     "slide_type": "fragment"
    }
   },
   "outputs": [],
   "source": [
    "reg = l2(3e-3) # 1e-5 to .1"
   ]
  },
  {
   "cell_type": "markdown",
   "metadata": {
    "cell_style": "split",
    "slideshow": {
     "slide_type": "slide"
    }
   },
   "source": [
    "Implementing regularization to weights in Keras:\n",
    "- Dense(kernel_regularizer = __)\n",
    "- takes in string ('l2') or regularizer object"
   ]
  },
  {
   "cell_type": "markdown",
   "metadata": {
    "cell_style": "split",
    "slideshow": {
     "slide_type": "fragment"
    }
   },
   "source": [
    "Less common but also used:\n",
    "\n",
    "- can apply regularization to bias terms \n",
    "- Dense(bias_regularizer = __)"
   ]
  },
  {
   "cell_type": "code",
   "execution_count": 8,
   "metadata": {
    "slideshow": {
     "slide_type": "slide"
    }
   },
   "outputs": [],
   "source": [
    "# load in the data\n",
    "(x_train, y_train), (x_test, y_test) = datasets.mnist.load_data()\n",
    "\n",
    "x_train = x_train/255 # normalization\n",
    "x_test = x_test/255\n",
    "\n",
    "# Keras requires multi-class labels to be one-hot encoded\n",
    "y_tr_one_hot = to_categorical(y_train)\n",
    "y_tt_one_hot = to_categorical(y_test)"
   ]
  },
  {
   "cell_type": "code",
   "execution_count": 9,
   "metadata": {
    "slideshow": {
     "slide_type": "slide"
    }
   },
   "outputs": [],
   "source": [
    "model_images = Sequential()\n",
    "model_images.add(Flatten(input_shape=(28, 28))) # flattens each 28x28 image into a vector\n",
    "model_images.add(Dense(32, activation='relu', kernel_regularizer = reg)) # take in regularizer\n",
    "model_images.add(Dense(8, activation='relu', kernel_regularizer = reg))\n",
    "model_images.add(Dense(10, activation='softmax')) # number of units = number of target classes"
   ]
  },
  {
   "cell_type": "code",
   "execution_count": 10,
   "metadata": {
    "slideshow": {
     "slide_type": "fragment"
    }
   },
   "outputs": [],
   "source": [
    "model_images.compile(optimizer='Adam', loss='categorical_crossentropy', metrics=['accuracy'] )"
   ]
  },
  {
   "cell_type": "code",
   "execution_count": 11,
   "metadata": {
    "scrolled": false,
    "slideshow": {
     "slide_type": "slide"
    }
   },
   "outputs": [
    {
     "name": "stdout",
     "output_type": "stream",
     "text": [
      "Epoch 1/50\n",
      "1500/1500 [==============================] - 7s 4ms/step - loss: 0.7496 - accuracy: 0.8211 - val_loss: 0.4850 - val_accuracy: 0.9112\n",
      "Epoch 2/50\n",
      "1500/1500 [==============================] - 5s 3ms/step - loss: 0.4500 - accuracy: 0.9189 - val_loss: 0.4046 - val_accuracy: 0.9330\n",
      "Epoch 3/50\n",
      "1500/1500 [==============================] - 5s 4ms/step - loss: 0.4012 - accuracy: 0.9322 - val_loss: 0.3667 - val_accuracy: 0.9418\n",
      "Epoch 4/50\n",
      "1500/1500 [==============================] - 5s 4ms/step - loss: 0.3751 - accuracy: 0.9371 - val_loss: 0.3586 - val_accuracy: 0.9408\n",
      "Epoch 5/50\n",
      "1500/1500 [==============================] - 5s 3ms/step - loss: 0.3560 - accuracy: 0.9419 - val_loss: 0.3360 - val_accuracy: 0.9466\n",
      "Epoch 6/50\n",
      "1500/1500 [==============================] - 6s 4ms/step - loss: 0.3407 - accuracy: 0.9432 - val_loss: 0.3366 - val_accuracy: 0.9433\n",
      "Epoch 7/50\n",
      "1500/1500 [==============================] - 6s 4ms/step - loss: 0.3282 - accuracy: 0.9459 - val_loss: 0.3208 - val_accuracy: 0.9492\n",
      "Epoch 8/50\n",
      "1500/1500 [==============================] - 5s 3ms/step - loss: 0.3184 - accuracy: 0.9489 - val_loss: 0.3098 - val_accuracy: 0.9515\n",
      "Epoch 9/50\n",
      "1500/1500 [==============================] - 5s 3ms/step - loss: 0.3094 - accuracy: 0.9497 - val_loss: 0.3085 - val_accuracy: 0.9492\n",
      "Epoch 10/50\n",
      "1500/1500 [==============================] - 5s 4ms/step - loss: 0.3029 - accuracy: 0.9498 - val_loss: 0.2892 - val_accuracy: 0.9539\n",
      "Epoch 11/50\n",
      "1500/1500 [==============================] - 5s 3ms/step - loss: 0.2959 - accuracy: 0.9507 - val_loss: 0.2859 - val_accuracy: 0.9565\n",
      "Epoch 12/50\n",
      "1500/1500 [==============================] - 6s 4ms/step - loss: 0.2901 - accuracy: 0.9528 - val_loss: 0.2806 - val_accuracy: 0.9557\n",
      "Epoch 13/50\n",
      "1500/1500 [==============================] - 5s 4ms/step - loss: 0.2828 - accuracy: 0.9532 - val_loss: 0.2763 - val_accuracy: 0.9562\n",
      "Epoch 14/50\n",
      "1500/1500 [==============================] - 5s 4ms/step - loss: 0.2786 - accuracy: 0.9543 - val_loss: 0.2689 - val_accuracy: 0.9569\n",
      "Epoch 15/50\n",
      "1500/1500 [==============================] - 5s 3ms/step - loss: 0.2750 - accuracy: 0.9546 - val_loss: 0.2636 - val_accuracy: 0.9597\n",
      "Epoch 16/50\n",
      "1500/1500 [==============================] - 5s 3ms/step - loss: 0.2709 - accuracy: 0.9549 - val_loss: 0.2831 - val_accuracy: 0.9534\n",
      "Epoch 17/50\n",
      "1500/1500 [==============================] - 5s 4ms/step - loss: 0.2657 - accuracy: 0.9570 - val_loss: 0.2596 - val_accuracy: 0.9606\n",
      "Epoch 18/50\n",
      "1500/1500 [==============================] - 5s 4ms/step - loss: 0.2627 - accuracy: 0.9573 - val_loss: 0.2518 - val_accuracy: 0.9587\n",
      "Epoch 19/50\n",
      "1500/1500 [==============================] - 5s 3ms/step - loss: 0.2593 - accuracy: 0.9574 - val_loss: 0.2467 - val_accuracy: 0.9605\n",
      "Epoch 20/50\n",
      "1500/1500 [==============================] - 5s 3ms/step - loss: 0.2567 - accuracy: 0.9578 - val_loss: 0.2585 - val_accuracy: 0.9559\n",
      "Epoch 21/50\n",
      "1500/1500 [==============================] - 5s 4ms/step - loss: 0.2537 - accuracy: 0.9575 - val_loss: 0.2469 - val_accuracy: 0.9617\n",
      "Epoch 22/50\n",
      "1500/1500 [==============================] - 5s 4ms/step - loss: 0.2487 - accuracy: 0.9594 - val_loss: 0.2670 - val_accuracy: 0.9523\n",
      "Epoch 23/50\n",
      "1500/1500 [==============================] - 5s 3ms/step - loss: 0.2478 - accuracy: 0.9589 - val_loss: 0.2467 - val_accuracy: 0.9598\n",
      "Epoch 24/50\n",
      "1500/1500 [==============================] - 5s 3ms/step - loss: 0.2445 - accuracy: 0.9597 - val_loss: 0.2451 - val_accuracy: 0.9579\n",
      "Epoch 25/50\n",
      "1500/1500 [==============================] - 5s 4ms/step - loss: 0.2425 - accuracy: 0.9592 - val_loss: 0.2314 - val_accuracy: 0.9628\n",
      "Epoch 26/50\n",
      "1500/1500 [==============================] - 5s 3ms/step - loss: 0.2392 - accuracy: 0.9601 - val_loss: 0.2469 - val_accuracy: 0.9567\n",
      "Epoch 27/50\n",
      "1500/1500 [==============================] - 5s 4ms/step - loss: 0.2380 - accuracy: 0.9608 - val_loss: 0.2404 - val_accuracy: 0.9601\n",
      "Epoch 28/50\n",
      "1500/1500 [==============================] - 5s 4ms/step - loss: 0.2342 - accuracy: 0.9616 - val_loss: 0.2368 - val_accuracy: 0.9593\n",
      "Epoch 29/50\n",
      "1500/1500 [==============================] - 5s 3ms/step - loss: 0.2353 - accuracy: 0.9612 - val_loss: 0.2467 - val_accuracy: 0.9593\n",
      "Epoch 30/50\n",
      "1500/1500 [==============================] - 5s 3ms/step - loss: 0.2323 - accuracy: 0.9616 - val_loss: 0.2325 - val_accuracy: 0.9629\n",
      "Epoch 31/50\n",
      "1500/1500 [==============================] - 5s 4ms/step - loss: 0.2318 - accuracy: 0.9610 - val_loss: 0.2296 - val_accuracy: 0.9624\n",
      "Epoch 32/50\n",
      "1500/1500 [==============================] - 5s 3ms/step - loss: 0.2286 - accuracy: 0.9619 - val_loss: 0.2602 - val_accuracy: 0.9508\n",
      "Epoch 33/50\n",
      "1500/1500 [==============================] - 5s 4ms/step - loss: 0.2289 - accuracy: 0.9617 - val_loss: 0.2250 - val_accuracy: 0.9649\n",
      "Epoch 34/50\n",
      "1500/1500 [==============================] - 5s 3ms/step - loss: 0.2263 - accuracy: 0.9622 - val_loss: 0.2341 - val_accuracy: 0.9589\n",
      "Epoch 35/50\n",
      "1500/1500 [==============================] - 5s 3ms/step - loss: 0.2269 - accuracy: 0.9626 - val_loss: 0.2397 - val_accuracy: 0.9562\n",
      "Epoch 36/50\n",
      "1500/1500 [==============================] - 5s 4ms/step - loss: 0.2232 - accuracy: 0.9630 - val_loss: 0.2552 - val_accuracy: 0.9525\n",
      "Epoch 37/50\n",
      "1500/1500 [==============================] - 5s 4ms/step - loss: 0.2243 - accuracy: 0.9626 - val_loss: 0.2414 - val_accuracy: 0.9549\n",
      "Epoch 38/50\n",
      "1500/1500 [==============================] - 5s 3ms/step - loss: 0.2234 - accuracy: 0.9626 - val_loss: 0.2251 - val_accuracy: 0.9622\n",
      "Epoch 39/50\n",
      "1500/1500 [==============================] - 5s 3ms/step - loss: 0.2194 - accuracy: 0.9637 - val_loss: 0.2328 - val_accuracy: 0.9616\n",
      "Epoch 40/50\n",
      "1500/1500 [==============================] - 5s 3ms/step - loss: 0.2199 - accuracy: 0.9628 - val_loss: 0.2234 - val_accuracy: 0.9622\n",
      "Epoch 41/50\n",
      "1500/1500 [==============================] - 5s 3ms/step - loss: 0.2191 - accuracy: 0.9642 - val_loss: 0.2286 - val_accuracy: 0.9605\n",
      "Epoch 42/50\n",
      "1500/1500 [==============================] - 5s 3ms/step - loss: 0.2184 - accuracy: 0.9642 - val_loss: 0.2257 - val_accuracy: 0.9609\n",
      "Epoch 43/50\n",
      "1500/1500 [==============================] - 5s 3ms/step - loss: 0.2155 - accuracy: 0.9646 - val_loss: 0.2175 - val_accuracy: 0.9637\n",
      "Epoch 44/50\n",
      "1500/1500 [==============================] - 5s 3ms/step - loss: 0.2153 - accuracy: 0.9641 - val_loss: 0.2237 - val_accuracy: 0.9621\n",
      "Epoch 45/50\n",
      "1500/1500 [==============================] - 5s 3ms/step - loss: 0.2144 - accuracy: 0.9646 - val_loss: 0.2214 - val_accuracy: 0.9612\n",
      "Epoch 46/50\n",
      "1500/1500 [==============================] - 5s 3ms/step - loss: 0.2132 - accuracy: 0.9641 - val_loss: 0.2193 - val_accuracy: 0.9634\n",
      "Epoch 47/50\n",
      "1500/1500 [==============================] - 5s 4ms/step - loss: 0.2120 - accuracy: 0.9639 - val_loss: 0.2234 - val_accuracy: 0.9616\n",
      "Epoch 48/50\n",
      "1500/1500 [==============================] - 5s 3ms/step - loss: 0.2116 - accuracy: 0.9643 - val_loss: 0.2153 - val_accuracy: 0.9624\n",
      "Epoch 49/50\n",
      "1500/1500 [==============================] - 5s 4ms/step - loss: 0.2150 - accuracy: 0.9638 - val_loss: 0.2212 - val_accuracy: 0.9588\n",
      "Epoch 50/50\n",
      "1500/1500 [==============================] - 5s 4ms/step - loss: 0.2098 - accuracy: 0.9645 - val_loss: 0.2183 - val_accuracy: 0.9619\n"
     ]
    }
   ],
   "source": [
    "# verbose=1 allows you to see the output.\n",
    "# To see only the metrics at the end of each epoch, set verbose=2.\n",
    "history_mnist = model_images.fit(x_train, y_tr_one_hot, epochs=50, batch_size= 32, validation_split = 0.2)"
   ]
  },
  {
   "cell_type": "code",
   "execution_count": 12,
   "metadata": {
    "cell_style": "split",
    "slideshow": {
     "slide_type": "slide"
    }
   },
   "outputs": [
    {
     "name": "stdout",
     "output_type": "stream",
     "text": [
      "313/313 [==============================] - 1s 2ms/step\n"
     ]
    },
    {
     "data": {
      "text/plain": [
       "array([[1.0069713e-04, 1.1248000e-05, 1.0242085e-03, ..., 9.9625969e-01,\n",
       "        1.5409209e-04, 4.1747591e-04],\n",
       "       [1.5367339e-05, 1.0394225e-03, 9.9547750e-01, ..., 2.6288320e-09,\n",
       "        4.9138261e-04, 2.6036744e-11],\n",
       "       [9.2954488e-06, 9.8985088e-01, 1.4527695e-03, ..., 4.4350610e-03,\n",
       "        1.3347537e-03, 7.0035635e-06],\n",
       "       ...,\n",
       "       [7.7591746e-09, 3.2327418e-05, 3.1469554e-08, ..., 3.1945550e-05,\n",
       "        1.8849225e-05, 2.2916994e-03],\n",
       "       [2.7523437e-04, 3.4642286e-05, 2.9265955e-06, ..., 3.5244545e-07,\n",
       "        1.9542038e-02, 7.5791331e-06],\n",
       "       [6.8777321e-05, 3.0678834e-06, 5.3938391e-05, ..., 8.7771763e-09,\n",
       "        3.0991527e-07, 1.5124516e-09]], dtype=float32)"
      ]
     },
     "execution_count": 12,
     "metadata": {},
     "output_type": "execute_result"
    }
   ],
   "source": [
    "# probability for each class\n",
    "y_proba = model_images.predict(x_test)\n",
    "y_proba"
   ]
  },
  {
   "cell_type": "code",
   "execution_count": 13,
   "metadata": {
    "cell_style": "split",
    "slideshow": {
     "slide_type": "fragment"
    }
   },
   "outputs": [
    {
     "name": "stdout",
     "output_type": "stream",
     "text": [
      "313/313 [==============================] - 1s 2ms/step - loss: 0.2167 - accuracy: 0.9621\n"
     ]
    },
    {
     "data": {
      "text/plain": [
       "[0.21667541563510895, 0.9621000289916992]"
      ]
     },
     "execution_count": 13,
     "metadata": {},
     "output_type": "execute_result"
    }
   ],
   "source": [
    "model_images.evaluate(x_test, y_tt_one_hot)"
   ]
  },
  {
   "cell_type": "code",
   "execution_count": 14,
   "metadata": {
    "cell_style": "split",
    "slideshow": {
     "slide_type": "fragment"
    }
   },
   "outputs": [
    {
     "data": {
      "image/png": "[encoded data removed]",
      "text/plain": [
       "<Figure size 432x288 with 1 Axes>"
      ]
     },
     "metadata": {
      "needs_background": "light"
     },
     "output_type": "display_data"
    }
   ],
   "source": [
    "train_mnist_history = pd.DataFrame(history_mnist.history)\n",
    "train_mnist_history.index.name = 'epochs'\n",
    "\n",
    "col_list = ['loss', 'val_loss']\n",
    "train_mnist_history[col_list].plot()\n",
    "plt.ylabel('Categorical cross entropy')\n",
    "plt.title('Training loss history')\n",
    "plt.show()"
   ]
  },
  {
   "cell_type": "code",
   "execution_count": 15,
   "metadata": {
    "cell_style": "split",
    "slideshow": {
     "slide_type": "slide"
    }
   },
   "outputs": [
    {
     "data": {
      "image/png": "[encoded data removed]",
      "text/plain": [
       "<Figure size 432x288 with 1 Axes>"
      ]
     },
     "metadata": {
      "needs_background": "light"
     },
     "output_type": "display_data"
    }
   ],
   "source": [
    "col_list = ['accuracy', 'val_accuracy']\n",
    "train_mnist_history[col_list].plot()\n",
    "plt.ylabel('Accuracy')\n",
    "plt.title('Training loss history')\n",
    "plt.show()"
   ]
  },
  {
   "cell_type": "markdown",
   "metadata": {
    "cell_style": "split",
    "slideshow": {
     "slide_type": "fragment"
    }
   },
   "source": [
    "Better validation accuracy:\n",
    "- 94.5\\% to 96.3\\% with regularization\n",
    "- no overfitting"
   ]
  },
  {
   "cell_type": "code",
   "execution_count": 16,
   "metadata": {
    "slideshow": {
     "slide_type": "slide"
    }
   },
   "outputs": [
    {
     "data": {
      "text/plain": [
       "array([7, 2, 1, ..., 4, 5, 6], dtype=int64)"
      ]
     },
     "execution_count": 16,
     "metadata": {},
     "output_type": "execute_result"
    }
   ],
   "source": [
    "# argmax axis = -1 gets the column index of maximum probability for each row.\n",
    "# column index corresponds to digit classes (numbers 0 -9)\n",
    "predicted = np.argmax(y_proba, axis=-1)\n",
    "predicted"
   ]
  },
  {
   "cell_type": "code",
   "execution_count": 17,
   "metadata": {
    "cell_style": "split",
    "scrolled": true,
    "slideshow": {
     "slide_type": "fragment"
    }
   },
   "outputs": [
    {
     "data": {
      "image/png": "[encoded data removed]",
      "text/plain": [
       "<Figure size 432x288 with 2 Axes>"
      ]
     },
     "metadata": {
      "needs_background": "light"
     },
     "output_type": "display_data"
    }
   ],
   "source": [
    "cm_digits = confusion_matrix(y_test, predicted)\n",
    "disp = ConfusionMatrixDisplay(\n",
    "    confusion_matrix=cm_digits)\n",
    "\n",
    "disp.plot(cmap=plt.cm.Blues)\n",
    "plt.show()"
   ]
  },
  {
   "cell_type": "markdown",
   "metadata": {
    "slideshow": {
     "slide_type": "slide"
    }
   },
   "source": [
    "Regularization: \n",
    "- key component to training deeper networks (tend to overfit without regularization)\n",
    "- learn higher order features, but don't overtrain on specifics."
   ]
  },
  {
   "cell_type": "code",
   "execution_count": 18,
   "metadata": {
    "slideshow": {
     "slide_type": "fragment"
    }
   },
   "outputs": [],
   "source": [
    "deepermodel_images = Sequential()\n",
    "deepermodel_images.add(Flatten(input_shape=(28, 28))) # flattens each 28x28 image into a vector\n",
    "deepermodel_images.add(Dense(32, activation='relu', kernel_regularizer = reg)) # take in regularizer\n",
    "deepermodel_images.add(Dense(16, activation='relu', kernel_regularizer = reg)) # add another layer\n",
    "deepermodel_images.add(Dense(16, activation='relu', kernel_regularizer = reg)) # add another layer\n",
    "deepermodel_images.add(Dense(10, activation='relu', kernel_regularizer = reg))\n",
    "deepermodel_images.add(Dense(10, activation='softmax')) # number of units = number of target classes\n",
    "\n",
    "deepermodel_images.compile(optimizer='Adam', loss='categorical_crossentropy', metrics=['accuracy'] )"
   ]
  },
  {
   "cell_type": "code",
   "execution_count": 19,
   "metadata": {
    "slideshow": {
     "slide_type": "slide"
    }
   },
   "outputs": [
    {
     "name": "stdout",
     "output_type": "stream",
     "text": [
      "Epoch 1/200\n",
      "1500/1500 [==============================] - 8s 4ms/step - loss: 0.8437 - accuracy: 0.7984 - val_loss: 0.5288 - val_accuracy: 0.9023\n",
      "Epoch 2/200\n",
      "1500/1500 [==============================] - 5s 4ms/step - loss: 0.4852 - accuracy: 0.9184 - val_loss: 0.4385 - val_accuracy: 0.9311\n",
      "Epoch 3/200\n",
      "1500/1500 [==============================] - 6s 4ms/step - loss: 0.4210 - accuracy: 0.9349 - val_loss: 0.3790 - val_accuracy: 0.9491\n",
      "Epoch 4/200\n",
      "1500/1500 [==============================] - 6s 4ms/step - loss: 0.3928 - accuracy: 0.9415 - val_loss: 0.3775 - val_accuracy: 0.9463\n",
      "Epoch 5/200\n",
      "1500/1500 [==============================] - 5s 3ms/step - loss: 0.3744 - accuracy: 0.9447 - val_loss: 0.3629 - val_accuracy: 0.9477\n",
      "Epoch 6/200\n",
      "1500/1500 [==============================] - 5s 4ms/step - loss: 0.3611 - accuracy: 0.9478 - val_loss: 0.3673 - val_accuracy: 0.9442\n",
      "Epoch 7/200\n",
      "1500/1500 [==============================] - 6s 4ms/step - loss: 0.3515 - accuracy: 0.9484 - val_loss: 0.3495 - val_accuracy: 0.9512\n",
      "Epoch 8/200\n",
      "1500/1500 [==============================] - 5s 4ms/step - loss: 0.3407 - accuracy: 0.9512 - val_loss: 0.3295 - val_accuracy: 0.9563\n",
      "Epoch 9/200\n",
      "1500/1500 [==============================] - 6s 4ms/step - loss: 0.3345 - accuracy: 0.9533 - val_loss: 0.3292 - val_accuracy: 0.9537\n",
      "Epoch 10/200\n",
      "1500/1500 [==============================] - 6s 4ms/step - loss: 0.3261 - accuracy: 0.9526 - val_loss: 0.3276 - val_accuracy: 0.9523\n",
      "Epoch 11/200\n",
      "1500/1500 [==============================] - 5s 4ms/step - loss: 0.3210 - accuracy: 0.9536 - val_loss: 0.3366 - val_accuracy: 0.9504\n",
      "Epoch 12/200\n",
      "1500/1500 [==============================] - 6s 4ms/step - loss: 0.3174 - accuracy: 0.9539 - val_loss: 0.3120 - val_accuracy: 0.9565\n",
      "Epoch 13/200\n",
      "1500/1500 [==============================] - 6s 4ms/step - loss: 0.3111 - accuracy: 0.9553 - val_loss: 0.3028 - val_accuracy: 0.9578\n",
      "Epoch 14/200\n",
      "1500/1500 [==============================] - 5s 4ms/step - loss: 0.3094 - accuracy: 0.9551 - val_loss: 0.3078 - val_accuracy: 0.9549\n",
      "Epoch 15/200\n",
      "1500/1500 [==============================] - 6s 4ms/step - loss: 0.3051 - accuracy: 0.9554 - val_loss: 0.2944 - val_accuracy: 0.9591\n",
      "Epoch 16/200\n",
      "1500/1500 [==============================] - 6s 4ms/step - loss: 0.2990 - accuracy: 0.9576 - val_loss: 0.3160 - val_accuracy: 0.9511\n",
      "Epoch 17/200\n",
      "1500/1500 [==============================] - 5s 4ms/step - loss: 0.2958 - accuracy: 0.9585 - val_loss: 0.2968 - val_accuracy: 0.9589\n",
      "Epoch 18/200\n",
      "1500/1500 [==============================] - 6s 4ms/step - loss: 0.2938 - accuracy: 0.9578 - val_loss: 0.2927 - val_accuracy: 0.9567\n",
      "Epoch 19/200\n",
      "1500/1500 [==============================] - 5s 4ms/step - loss: 0.2922 - accuracy: 0.9582 - val_loss: 0.2857 - val_accuracy: 0.9600\n",
      "Epoch 20/200\n",
      "1500/1500 [==============================] - 5s 4ms/step - loss: 0.2878 - accuracy: 0.9588 - val_loss: 0.2931 - val_accuracy: 0.9550\n",
      "Epoch 21/200\n",
      "1500/1500 [==============================] - 5s 4ms/step - loss: 0.2862 - accuracy: 0.9591 - val_loss: 0.2889 - val_accuracy: 0.9596\n",
      "Epoch 22/200\n",
      "1500/1500 [==============================] - 5s 4ms/step - loss: 0.2810 - accuracy: 0.9606 - val_loss: 0.3093 - val_accuracy: 0.9516\n",
      "Epoch 23/200\n",
      "1500/1500 [==============================] - 5s 4ms/step - loss: 0.2828 - accuracy: 0.9596 - val_loss: 0.2860 - val_accuracy: 0.9586\n",
      "Epoch 24/200\n",
      "1500/1500 [==============================] - 5s 4ms/step - loss: 0.2807 - accuracy: 0.9597 - val_loss: 0.2863 - val_accuracy: 0.9582\n",
      "Epoch 25/200\n",
      "1500/1500 [==============================] - 5s 4ms/step - loss: 0.2789 - accuracy: 0.9583 - val_loss: 0.3005 - val_accuracy: 0.9535\n",
      "Epoch 26/200\n",
      "1500/1500 [==============================] - 5s 4ms/step - loss: 0.2762 - accuracy: 0.9596 - val_loss: 0.2766 - val_accuracy: 0.9614\n",
      "Epoch 27/200\n",
      "1500/1500 [==============================] - 5s 4ms/step - loss: 0.2731 - accuracy: 0.9600 - val_loss: 0.2734 - val_accuracy: 0.9592\n",
      "Epoch 28/200\n",
      "1500/1500 [==============================] - 5s 3ms/step - loss: 0.2718 - accuracy: 0.9606 - val_loss: 0.2987 - val_accuracy: 0.9544\n",
      "Epoch 29/200\n",
      "1500/1500 [==============================] - 5s 4ms/step - loss: 0.2709 - accuracy: 0.9605 - val_loss: 0.2877 - val_accuracy: 0.9559\n",
      "Epoch 30/200\n",
      "1500/1500 [==============================] - 6s 4ms/step - loss: 0.2690 - accuracy: 0.9611 - val_loss: 0.2729 - val_accuracy: 0.9605\n",
      "Epoch 31/200\n",
      "1500/1500 [==============================] - 5s 4ms/step - loss: 0.2690 - accuracy: 0.9604 - val_loss: 0.2730 - val_accuracy: 0.9600\n",
      "Epoch 32/200\n",
      "1500/1500 [==============================] - 6s 4ms/step - loss: 0.2663 - accuracy: 0.9612 - val_loss: 0.2858 - val_accuracy: 0.9553\n",
      "Epoch 33/200\n",
      "1500/1500 [==============================] - 6s 4ms/step - loss: 0.2639 - accuracy: 0.9606 - val_loss: 0.2672 - val_accuracy: 0.9639\n",
      "Epoch 34/200\n",
      "1500/1500 [==============================] - 5s 4ms/step - loss: 0.2642 - accuracy: 0.9616 - val_loss: 0.2737 - val_accuracy: 0.9586\n",
      "Epoch 35/200\n",
      "1500/1500 [==============================] - 6s 4ms/step - loss: 0.2630 - accuracy: 0.9613 - val_loss: 0.2707 - val_accuracy: 0.9584\n",
      "Epoch 36/200\n",
      "1500/1500 [==============================] - 6s 4ms/step - loss: 0.2631 - accuracy: 0.9609 - val_loss: 0.2673 - val_accuracy: 0.9618\n",
      "Epoch 37/200\n",
      "1500/1500 [==============================] - 5s 4ms/step - loss: 0.2597 - accuracy: 0.9623 - val_loss: 0.2755 - val_accuracy: 0.9572\n",
      "Epoch 38/200\n",
      "1500/1500 [==============================] - 6s 4ms/step - loss: 0.2610 - accuracy: 0.9618 - val_loss: 0.2707 - val_accuracy: 0.9589\n",
      "Epoch 39/200\n",
      "1500/1500 [==============================] - 6s 4ms/step - loss: 0.2570 - accuracy: 0.9620 - val_loss: 0.2602 - val_accuracy: 0.9627\n",
      "Epoch 40/200\n",
      "1500/1500 [==============================] - 5s 4ms/step - loss: 0.2572 - accuracy: 0.9622 - val_loss: 0.2845 - val_accuracy: 0.9538\n",
      "Epoch 41/200\n",
      "1500/1500 [==============================] - 6s 4ms/step - loss: 0.2569 - accuracy: 0.9612 - val_loss: 0.2628 - val_accuracy: 0.9612\n",
      "Epoch 42/200\n",
      "1500/1500 [==============================] - 6s 4ms/step - loss: 0.2578 - accuracy: 0.9623 - val_loss: 0.2664 - val_accuracy: 0.9605\n",
      "Epoch 43/200\n",
      "1500/1500 [==============================] - 6s 4ms/step - loss: 0.2546 - accuracy: 0.9626 - val_loss: 0.2573 - val_accuracy: 0.9608\n",
      "Epoch 44/200\n",
      "1500/1500 [==============================] - 6s 4ms/step - loss: 0.2555 - accuracy: 0.9615 - val_loss: 0.2605 - val_accuracy: 0.9613\n",
      "Epoch 45/200\n",
      "1500/1500 [==============================] - 6s 4ms/step - loss: 0.2514 - accuracy: 0.9631 - val_loss: 0.2768 - val_accuracy: 0.9556\n",
      "Epoch 46/200\n",
      "1500/1500 [==============================] - 6s 4ms/step - loss: 0.2543 - accuracy: 0.9615 - val_loss: 0.2689 - val_accuracy: 0.9583\n",
      "Epoch 47/200\n",
      "1500/1500 [==============================] - 6s 4ms/step - loss: 0.2527 - accuracy: 0.9625 - val_loss: 0.2790 - val_accuracy: 0.9548\n",
      "Epoch 48/200\n",
      "1500/1500 [==============================] - 5s 3ms/step - loss: 0.2532 - accuracy: 0.9620 - val_loss: 0.2766 - val_accuracy: 0.9533\n",
      "Epoch 49/200\n",
      "1500/1500 [==============================] - 5s 4ms/step - loss: 0.2505 - accuracy: 0.9631 - val_loss: 0.2596 - val_accuracy: 0.9604\n",
      "Epoch 50/200\n",
      "1500/1500 [==============================] - 6s 4ms/step - loss: 0.2504 - accuracy: 0.9629 - val_loss: 0.2644 - val_accuracy: 0.9572\n",
      "Epoch 51/200\n",
      "1500/1500 [==============================] - 5s 4ms/step - loss: 0.2495 - accuracy: 0.9629 - val_loss: 0.2720 - val_accuracy: 0.9586\n",
      "Epoch 52/200\n",
      "1500/1500 [==============================] - 5s 4ms/step - loss: 0.2489 - accuracy: 0.9618 - val_loss: 0.2610 - val_accuracy: 0.9600\n",
      "Epoch 53/200\n",
      "1500/1500 [==============================] - 6s 4ms/step - loss: 0.2489 - accuracy: 0.9638 - val_loss: 0.2611 - val_accuracy: 0.9589\n",
      "Epoch 54/200\n",
      "1500/1500 [==============================] - 5s 4ms/step - loss: 0.2464 - accuracy: 0.9629 - val_loss: 0.2456 - val_accuracy: 0.9658\n",
      "Epoch 55/200\n",
      "1500/1500 [==============================] - 5s 4ms/step - loss: 0.2465 - accuracy: 0.9630 - val_loss: 0.2529 - val_accuracy: 0.9591\n",
      "Epoch 56/200\n",
      "1500/1500 [==============================] - 6s 4ms/step - loss: 0.2476 - accuracy: 0.9624 - val_loss: 0.2632 - val_accuracy: 0.9594\n",
      "Epoch 57/200\n"
     ]
    },
    {
     "name": "stdout",
     "output_type": "stream",
     "text": [
      "1500/1500 [==============================] - 5s 4ms/step - loss: 0.2462 - accuracy: 0.9636 - val_loss: 0.2701 - val_accuracy: 0.9583\n",
      "Epoch 58/200\n",
      "1500/1500 [==============================] - 6s 4ms/step - loss: 0.2463 - accuracy: 0.9630 - val_loss: 0.2656 - val_accuracy: 0.9582\n",
      "Epoch 59/200\n",
      "1500/1500 [==============================] - 6s 4ms/step - loss: 0.2439 - accuracy: 0.9638 - val_loss: 0.2608 - val_accuracy: 0.9606\n",
      "Epoch 60/200\n",
      "1500/1500 [==============================] - 5s 4ms/step - loss: 0.2460 - accuracy: 0.9628 - val_loss: 0.2773 - val_accuracy: 0.9563\n",
      "Epoch 61/200\n",
      "1500/1500 [==============================] - 6s 4ms/step - loss: 0.2455 - accuracy: 0.9627 - val_loss: 0.2650 - val_accuracy: 0.9580\n",
      "Epoch 62/200\n",
      "1500/1500 [==============================] - 6s 4ms/step - loss: 0.2418 - accuracy: 0.9635 - val_loss: 0.2476 - val_accuracy: 0.9607\n",
      "Epoch 63/200\n",
      "1500/1500 [==============================] - 5s 3ms/step - loss: 0.2424 - accuracy: 0.9634 - val_loss: 0.2525 - val_accuracy: 0.9621\n",
      "Epoch 64/200\n",
      "1500/1500 [==============================] - 6s 4ms/step - loss: 0.2415 - accuracy: 0.9630 - val_loss: 0.2520 - val_accuracy: 0.9624\n",
      "Epoch 65/200\n",
      "1500/1500 [==============================] - 5s 4ms/step - loss: 0.2441 - accuracy: 0.9635 - val_loss: 0.2531 - val_accuracy: 0.9609\n",
      "Epoch 66/200\n",
      "1500/1500 [==============================] - 5s 4ms/step - loss: 0.2436 - accuracy: 0.9625 - val_loss: 0.2561 - val_accuracy: 0.9602\n",
      "Epoch 67/200\n",
      "1500/1500 [==============================] - 6s 4ms/step - loss: 0.2401 - accuracy: 0.9640 - val_loss: 0.2579 - val_accuracy: 0.9601\n",
      "Epoch 68/200\n",
      "1500/1500 [==============================] - 5s 4ms/step - loss: 0.2406 - accuracy: 0.9639 - val_loss: 0.2467 - val_accuracy: 0.9629\n",
      "Epoch 69/200\n",
      "1500/1500 [==============================] - 5s 3ms/step - loss: 0.2371 - accuracy: 0.9651 - val_loss: 0.2848 - val_accuracy: 0.9489\n",
      "Epoch 70/200\n",
      "1500/1500 [==============================] - 5s 4ms/step - loss: 0.2419 - accuracy: 0.9628 - val_loss: 0.2503 - val_accuracy: 0.9592\n",
      "Epoch 71/200\n",
      "1500/1500 [==============================] - 6s 4ms/step - loss: 0.2399 - accuracy: 0.9638 - val_loss: 0.2420 - val_accuracy: 0.9631\n",
      "Epoch 72/200\n",
      "1500/1500 [==============================] - 5s 4ms/step - loss: 0.2399 - accuracy: 0.9635 - val_loss: 0.2575 - val_accuracy: 0.9586\n",
      "Epoch 73/200\n",
      "1500/1500 [==============================] - 6s 4ms/step - loss: 0.2387 - accuracy: 0.9635 - val_loss: 0.2475 - val_accuracy: 0.9632\n",
      "Epoch 74/200\n",
      "1500/1500 [==============================] - 5s 4ms/step - loss: 0.2389 - accuracy: 0.9635 - val_loss: 0.2601 - val_accuracy: 0.9587\n",
      "Epoch 75/200\n",
      "1500/1500 [==============================] - 5s 4ms/step - loss: 0.2377 - accuracy: 0.9644 - val_loss: 0.2585 - val_accuracy: 0.9573\n",
      "Epoch 76/200\n",
      "1500/1500 [==============================] - 5s 4ms/step - loss: 0.2368 - accuracy: 0.9639 - val_loss: 0.2462 - val_accuracy: 0.9622\n",
      "Epoch 77/200\n",
      "1500/1500 [==============================] - 6s 4ms/step - loss: 0.2377 - accuracy: 0.9638 - val_loss: 0.2607 - val_accuracy: 0.9558\n",
      "Epoch 78/200\n",
      "1500/1500 [==============================] - 6s 4ms/step - loss: 0.2349 - accuracy: 0.9646 - val_loss: 0.2707 - val_accuracy: 0.9542\n",
      "Epoch 79/200\n",
      "1500/1500 [==============================] - 6s 4ms/step - loss: 0.2372 - accuracy: 0.9637 - val_loss: 0.2504 - val_accuracy: 0.9627\n",
      "Epoch 80/200\n",
      "1500/1500 [==============================] - 6s 4ms/step - loss: 0.2382 - accuracy: 0.9642 - val_loss: 0.2567 - val_accuracy: 0.9570\n",
      "Epoch 81/200\n",
      "1500/1500 [==============================] - 5s 4ms/step - loss: 0.2368 - accuracy: 0.9642 - val_loss: 0.2450 - val_accuracy: 0.9607\n",
      "Epoch 82/200\n",
      "1500/1500 [==============================] - 6s 4ms/step - loss: 0.2348 - accuracy: 0.9648 - val_loss: 0.2436 - val_accuracy: 0.9604\n",
      "Epoch 83/200\n",
      "1500/1500 [==============================] - 6s 4ms/step - loss: 0.2361 - accuracy: 0.9639 - val_loss: 0.2751 - val_accuracy: 0.9497\n",
      "Epoch 84/200\n",
      "1500/1500 [==============================] - 6s 4ms/step - loss: 0.2327 - accuracy: 0.9643 - val_loss: 0.2502 - val_accuracy: 0.9605\n",
      "Epoch 85/200\n",
      "1500/1500 [==============================] - 6s 4ms/step - loss: 0.2360 - accuracy: 0.9647 - val_loss: 0.2527 - val_accuracy: 0.9595\n",
      "Epoch 86/200\n",
      "1500/1500 [==============================] - 5s 4ms/step - loss: 0.2377 - accuracy: 0.9630 - val_loss: 0.2744 - val_accuracy: 0.9502\n",
      "Epoch 87/200\n",
      "1500/1500 [==============================] - 6s 4ms/step - loss: 0.2333 - accuracy: 0.9644 - val_loss: 0.2546 - val_accuracy: 0.9598\n",
      "Epoch 88/200\n",
      "1500/1500 [==============================] - 6s 4ms/step - loss: 0.2354 - accuracy: 0.9647 - val_loss: 0.2431 - val_accuracy: 0.9615\n",
      "Epoch 89/200\n",
      "1500/1500 [==============================] - 5s 4ms/step - loss: 0.2350 - accuracy: 0.9635 - val_loss: 0.2562 - val_accuracy: 0.9589\n",
      "Epoch 90/200\n",
      "1500/1500 [==============================] - 6s 4ms/step - loss: 0.2360 - accuracy: 0.9637 - val_loss: 0.2675 - val_accuracy: 0.9536\n",
      "Epoch 91/200\n",
      "1500/1500 [==============================] - 6s 4ms/step - loss: 0.2343 - accuracy: 0.9640 - val_loss: 0.2607 - val_accuracy: 0.9559\n",
      "Epoch 92/200\n",
      "1500/1500 [==============================] - 5s 4ms/step - loss: 0.2340 - accuracy: 0.9641 - val_loss: 0.2578 - val_accuracy: 0.9589\n",
      "Epoch 93/200\n",
      "1500/1500 [==============================] - 6s 4ms/step - loss: 0.2332 - accuracy: 0.9640 - val_loss: 0.2520 - val_accuracy: 0.9586\n",
      "Epoch 94/200\n",
      "1500/1500 [==============================] - 6s 4ms/step - loss: 0.2349 - accuracy: 0.9636 - val_loss: 0.2390 - val_accuracy: 0.9639\n",
      "Epoch 95/200\n",
      "1500/1500 [==============================] - 6s 4ms/step - loss: 0.2320 - accuracy: 0.9646 - val_loss: 0.2585 - val_accuracy: 0.9589\n",
      "Epoch 96/200\n",
      "1500/1500 [==============================] - 6s 4ms/step - loss: 0.2339 - accuracy: 0.9640 - val_loss: 0.2413 - val_accuracy: 0.9607\n",
      "Epoch 97/200\n",
      "1500/1500 [==============================] - 6s 4ms/step - loss: 0.2323 - accuracy: 0.9652 - val_loss: 0.2728 - val_accuracy: 0.9556\n",
      "Epoch 98/200\n",
      "1500/1500 [==============================] - 6s 4ms/step - loss: 0.2339 - accuracy: 0.9637 - val_loss: 0.2486 - val_accuracy: 0.9597\n",
      "Epoch 99/200\n",
      "1500/1500 [==============================] - 6s 4ms/step - loss: 0.2322 - accuracy: 0.9648 - val_loss: 0.2531 - val_accuracy: 0.9598\n",
      "Epoch 100/200\n",
      "1500/1500 [==============================] - 6s 4ms/step - loss: 0.2314 - accuracy: 0.9647 - val_loss: 0.2461 - val_accuracy: 0.9608\n",
      "Epoch 101/200\n",
      "1500/1500 [==============================] - 6s 4ms/step - loss: 0.2334 - accuracy: 0.9642 - val_loss: 0.2336 - val_accuracy: 0.9639\n",
      "Epoch 102/200\n",
      "1500/1500 [==============================] - 6s 4ms/step - loss: 0.2304 - accuracy: 0.9651 - val_loss: 0.2413 - val_accuracy: 0.9628\n",
      "Epoch 103/200\n",
      "1500/1500 [==============================] - 6s 4ms/step - loss: 0.2299 - accuracy: 0.9648 - val_loss: 0.2530 - val_accuracy: 0.9583\n",
      "Epoch 104/200\n",
      "1500/1500 [==============================] - 6s 4ms/step - loss: 0.2317 - accuracy: 0.9639 - val_loss: 0.2427 - val_accuracy: 0.9618\n",
      "Epoch 105/200\n",
      "1500/1500 [==============================] - 6s 4ms/step - loss: 0.2333 - accuracy: 0.9639 - val_loss: 0.2400 - val_accuracy: 0.9627\n",
      "Epoch 106/200\n",
      "1500/1500 [==============================] - 6s 4ms/step - loss: 0.2320 - accuracy: 0.9636 - val_loss: 0.2426 - val_accuracy: 0.9604\n",
      "Epoch 107/200\n",
      "1500/1500 [==============================] - 6s 4ms/step - loss: 0.2326 - accuracy: 0.9645 - val_loss: 0.2444 - val_accuracy: 0.9595\n",
      "Epoch 108/200\n",
      "1500/1500 [==============================] - 6s 4ms/step - loss: 0.2301 - accuracy: 0.9648 - val_loss: 0.2416 - val_accuracy: 0.9604\n",
      "Epoch 109/200\n",
      "1500/1500 [==============================] - 6s 4ms/step - loss: 0.2327 - accuracy: 0.9639 - val_loss: 0.2355 - val_accuracy: 0.9647\n",
      "Epoch 110/200\n",
      "1500/1500 [==============================] - 6s 4ms/step - loss: 0.2308 - accuracy: 0.9646 - val_loss: 0.2384 - val_accuracy: 0.9619\n",
      "Epoch 111/200\n",
      "1500/1500 [==============================] - 6s 4ms/step - loss: 0.2281 - accuracy: 0.9654 - val_loss: 0.2420 - val_accuracy: 0.9615\n",
      "Epoch 112/200\n",
      "1500/1500 [==============================] - 6s 4ms/step - loss: 0.2285 - accuracy: 0.9654 - val_loss: 0.2481 - val_accuracy: 0.9582\n",
      "Epoch 113/200\n"
     ]
    },
    {
     "name": "stdout",
     "output_type": "stream",
     "text": [
      "1500/1500 [==============================] - 6s 4ms/step - loss: 0.2301 - accuracy: 0.9645 - val_loss: 0.2350 - val_accuracy: 0.9653\n",
      "Epoch 114/200\n",
      "1500/1500 [==============================] - 6s 4ms/step - loss: 0.2308 - accuracy: 0.9641 - val_loss: 0.2435 - val_accuracy: 0.9625\n",
      "Epoch 115/200\n",
      "1500/1500 [==============================] - 6s 4ms/step - loss: 0.2295 - accuracy: 0.9650 - val_loss: 0.2509 - val_accuracy: 0.9566\n",
      "Epoch 116/200\n",
      "1500/1500 [==============================] - 6s 4ms/step - loss: 0.2295 - accuracy: 0.9647 - val_loss: 0.3034 - val_accuracy: 0.9444\n",
      "Epoch 117/200\n",
      "1500/1500 [==============================] - 6s 4ms/step - loss: 0.2297 - accuracy: 0.9641 - val_loss: 0.2455 - val_accuracy: 0.9617\n",
      "Epoch 118/200\n",
      "1500/1500 [==============================] - 6s 4ms/step - loss: 0.2308 - accuracy: 0.9642 - val_loss: 0.2421 - val_accuracy: 0.9604\n",
      "Epoch 119/200\n",
      "1500/1500 [==============================] - 6s 4ms/step - loss: 0.2290 - accuracy: 0.9645 - val_loss: 0.2383 - val_accuracy: 0.9610\n",
      "Epoch 120/200\n",
      "1500/1500 [==============================] - 6s 4ms/step - loss: 0.2268 - accuracy: 0.9652 - val_loss: 0.2487 - val_accuracy: 0.9593\n",
      "Epoch 121/200\n",
      "1500/1500 [==============================] - 6s 4ms/step - loss: 0.2277 - accuracy: 0.9649 - val_loss: 0.2352 - val_accuracy: 0.9618\n",
      "Epoch 122/200\n",
      "1500/1500 [==============================] - 6s 4ms/step - loss: 0.2276 - accuracy: 0.9646 - val_loss: 0.2448 - val_accuracy: 0.9597\n",
      "Epoch 123/200\n",
      "1500/1500 [==============================] - 6s 4ms/step - loss: 0.2302 - accuracy: 0.9646 - val_loss: 0.2412 - val_accuracy: 0.9612\n",
      "Epoch 124/200\n",
      "1500/1500 [==============================] - 6s 4ms/step - loss: 0.2280 - accuracy: 0.9650 - val_loss: 0.2536 - val_accuracy: 0.9589\n",
      "Epoch 125/200\n",
      "1500/1500 [==============================] - 6s 4ms/step - loss: 0.2291 - accuracy: 0.9645 - val_loss: 0.2500 - val_accuracy: 0.9579\n",
      "Epoch 126/200\n",
      "1500/1500 [==============================] - 6s 4ms/step - loss: 0.2267 - accuracy: 0.9644 - val_loss: 0.2549 - val_accuracy: 0.9577\n",
      "Epoch 127/200\n",
      "1500/1500 [==============================] - 6s 4ms/step - loss: 0.2279 - accuracy: 0.9643 - val_loss: 0.2529 - val_accuracy: 0.9581\n",
      "Epoch 128/200\n",
      "1500/1500 [==============================] - 6s 4ms/step - loss: 0.2266 - accuracy: 0.9652 - val_loss: 0.2333 - val_accuracy: 0.9607\n",
      "Epoch 129/200\n",
      "1500/1500 [==============================] - 6s 4ms/step - loss: 0.2246 - accuracy: 0.9661 - val_loss: 0.2321 - val_accuracy: 0.9627\n",
      "Epoch 130/200\n",
      "1500/1500 [==============================] - 6s 4ms/step - loss: 0.2296 - accuracy: 0.9637 - val_loss: 0.2308 - val_accuracy: 0.9638\n",
      "Epoch 131/200\n",
      "1500/1500 [==============================] - 6s 4ms/step - loss: 0.2285 - accuracy: 0.9643 - val_loss: 0.2373 - val_accuracy: 0.9634\n",
      "Epoch 132/200\n",
      "1500/1500 [==============================] - 6s 4ms/step - loss: 0.2267 - accuracy: 0.9641 - val_loss: 0.2462 - val_accuracy: 0.9599\n",
      "Epoch 133/200\n",
      "1500/1500 [==============================] - 6s 4ms/step - loss: 0.2272 - accuracy: 0.9649 - val_loss: 0.2370 - val_accuracy: 0.9628\n",
      "Epoch 134/200\n",
      "1500/1500 [==============================] - 6s 4ms/step - loss: 0.2257 - accuracy: 0.9649 - val_loss: 0.2563 - val_accuracy: 0.9563\n",
      "Epoch 135/200\n",
      "1500/1500 [==============================] - 6s 4ms/step - loss: 0.2268 - accuracy: 0.9651 - val_loss: 0.2435 - val_accuracy: 0.9588\n",
      "Epoch 136/200\n",
      "1500/1500 [==============================] - 5s 4ms/step - loss: 0.2266 - accuracy: 0.9654 - val_loss: 0.2307 - val_accuracy: 0.9625\n",
      "Epoch 137/200\n",
      "1500/1500 [==============================] - 6s 4ms/step - loss: 0.2264 - accuracy: 0.9648 - val_loss: 0.2569 - val_accuracy: 0.9575\n",
      "Epoch 138/200\n",
      "1500/1500 [==============================] - 6s 4ms/step - loss: 0.2273 - accuracy: 0.9643 - val_loss: 0.2425 - val_accuracy: 0.9606\n",
      "Epoch 139/200\n",
      "1500/1500 [==============================] - 5s 4ms/step - loss: 0.2246 - accuracy: 0.9655 - val_loss: 0.2415 - val_accuracy: 0.9600\n",
      "Epoch 140/200\n",
      "1500/1500 [==============================] - 6s 4ms/step - loss: 0.2274 - accuracy: 0.9639 - val_loss: 0.2395 - val_accuracy: 0.9608\n",
      "Epoch 141/200\n",
      "1500/1500 [==============================] - 6s 4ms/step - loss: 0.2229 - accuracy: 0.9656 - val_loss: 0.2420 - val_accuracy: 0.9592\n",
      "Epoch 142/200\n",
      "1500/1500 [==============================] - 6s 4ms/step - loss: 0.2261 - accuracy: 0.9647 - val_loss: 0.2474 - val_accuracy: 0.9589\n",
      "Epoch 143/200\n",
      "1500/1500 [==============================] - 6s 4ms/step - loss: 0.2260 - accuracy: 0.9645 - val_loss: 0.2382 - val_accuracy: 0.9625\n",
      "Epoch 144/200\n",
      "1500/1500 [==============================] - 6s 4ms/step - loss: 0.2243 - accuracy: 0.9648 - val_loss: 0.2291 - val_accuracy: 0.9643\n",
      "Epoch 145/200\n",
      "1500/1500 [==============================] - 6s 4ms/step - loss: 0.2236 - accuracy: 0.9651 - val_loss: 0.2401 - val_accuracy: 0.9616\n",
      "Epoch 146/200\n",
      "1500/1500 [==============================] - 6s 4ms/step - loss: 0.2283 - accuracy: 0.9630 - val_loss: 0.2326 - val_accuracy: 0.9629\n",
      "Epoch 147/200\n",
      "1500/1500 [==============================] - 6s 4ms/step - loss: 0.2262 - accuracy: 0.9645 - val_loss: 0.2491 - val_accuracy: 0.9568\n",
      "Epoch 148/200\n",
      "1500/1500 [==============================] - 6s 4ms/step - loss: 0.2252 - accuracy: 0.9650 - val_loss: 0.2331 - val_accuracy: 0.9640\n",
      "Epoch 149/200\n",
      "1500/1500 [==============================] - 6s 4ms/step - loss: 0.2257 - accuracy: 0.9646 - val_loss: 0.2445 - val_accuracy: 0.9590\n",
      "Epoch 150/200\n",
      "1500/1500 [==============================] - 6s 4ms/step - loss: 0.2297 - accuracy: 0.9632 - val_loss: 0.2432 - val_accuracy: 0.9582\n",
      "Epoch 151/200\n",
      "1500/1500 [==============================] - 6s 4ms/step - loss: 0.2248 - accuracy: 0.9642 - val_loss: 0.2396 - val_accuracy: 0.9600\n",
      "Epoch 152/200\n",
      "1500/1500 [==============================] - 6s 4ms/step - loss: 0.2252 - accuracy: 0.9645 - val_loss: 0.2610 - val_accuracy: 0.9520\n",
      "Epoch 153/200\n",
      "1500/1500 [==============================] - 6s 4ms/step - loss: 0.2236 - accuracy: 0.9654 - val_loss: 0.2452 - val_accuracy: 0.9593\n",
      "Epoch 154/200\n",
      "1500/1500 [==============================] - 6s 4ms/step - loss: 0.2241 - accuracy: 0.9649 - val_loss: 0.2538 - val_accuracy: 0.9557\n",
      "Epoch 155/200\n",
      "1500/1500 [==============================] - 6s 4ms/step - loss: 0.2249 - accuracy: 0.9647 - val_loss: 0.2466 - val_accuracy: 0.9595\n",
      "Epoch 156/200\n",
      "1500/1500 [==============================] - 6s 4ms/step - loss: 0.2235 - accuracy: 0.9649 - val_loss: 0.2401 - val_accuracy: 0.9614\n",
      "Epoch 157/200\n",
      "1500/1500 [==============================] - 6s 4ms/step - loss: 0.2239 - accuracy: 0.9645 - val_loss: 0.2529 - val_accuracy: 0.9550\n",
      "Epoch 158/200\n",
      "1500/1500 [==============================] - 6s 4ms/step - loss: 0.2238 - accuracy: 0.9650 - val_loss: 0.2389 - val_accuracy: 0.9604\n",
      "Epoch 159/200\n",
      "1500/1500 [==============================] - 6s 4ms/step - loss: 0.2223 - accuracy: 0.9651 - val_loss: 0.2255 - val_accuracy: 0.9645\n",
      "Epoch 160/200\n",
      "1500/1500 [==============================] - 6s 4ms/step - loss: 0.2217 - accuracy: 0.9655 - val_loss: 0.2300 - val_accuracy: 0.9629\n",
      "Epoch 161/200\n",
      "1500/1500 [==============================] - 6s 4ms/step - loss: 0.2228 - accuracy: 0.9645 - val_loss: 0.2713 - val_accuracy: 0.9532\n",
      "Epoch 162/200\n",
      "1500/1500 [==============================] - 6s 4ms/step - loss: 0.2247 - accuracy: 0.9636 - val_loss: 0.2368 - val_accuracy: 0.9617\n",
      "Epoch 163/200\n",
      "1500/1500 [==============================] - 6s 4ms/step - loss: 0.2211 - accuracy: 0.9653 - val_loss: 0.2490 - val_accuracy: 0.9581\n",
      "Epoch 164/200\n",
      "1500/1500 [==============================] - 6s 4ms/step - loss: 0.2223 - accuracy: 0.9650 - val_loss: 0.2467 - val_accuracy: 0.9592\n",
      "Epoch 165/200\n",
      "1500/1500 [==============================] - 6s 4ms/step - loss: 0.2215 - accuracy: 0.9650 - val_loss: 0.2475 - val_accuracy: 0.9592\n",
      "Epoch 166/200\n",
      "1500/1500 [==============================] - 6s 4ms/step - loss: 0.2251 - accuracy: 0.9644 - val_loss: 0.2346 - val_accuracy: 0.9628\n",
      "Epoch 167/200\n",
      "1500/1500 [==============================] - 5s 4ms/step - loss: 0.2230 - accuracy: 0.9646 - val_loss: 0.2612 - val_accuracy: 0.9527\n",
      "Epoch 168/200\n",
      "1500/1500 [==============================] - 6s 4ms/step - loss: 0.2224 - accuracy: 0.9646 - val_loss: 0.2487 - val_accuracy: 0.9575\n"
     ]
    },
    {
     "name": "stdout",
     "output_type": "stream",
     "text": [
      "Epoch 169/200\n",
      "1500/1500 [==============================] - 6s 4ms/step - loss: 0.2220 - accuracy: 0.9658 - val_loss: 0.2372 - val_accuracy: 0.9611\n",
      "Epoch 170/200\n",
      "1500/1500 [==============================] - 6s 4ms/step - loss: 0.2251 - accuracy: 0.9640 - val_loss: 0.2508 - val_accuracy: 0.9575\n",
      "Epoch 171/200\n",
      "1500/1500 [==============================] - 6s 4ms/step - loss: 0.2216 - accuracy: 0.9653 - val_loss: 0.2288 - val_accuracy: 0.9653\n",
      "Epoch 172/200\n",
      "1500/1500 [==============================] - 5s 4ms/step - loss: 0.2197 - accuracy: 0.9647 - val_loss: 0.2377 - val_accuracy: 0.9597\n",
      "Epoch 173/200\n",
      "1500/1500 [==============================] - 6s 4ms/step - loss: 0.2230 - accuracy: 0.9642 - val_loss: 0.2407 - val_accuracy: 0.9604\n",
      "Epoch 174/200\n",
      "1500/1500 [==============================] - 6s 4ms/step - loss: 0.2231 - accuracy: 0.9649 - val_loss: 0.2289 - val_accuracy: 0.9641\n",
      "Epoch 175/200\n",
      "1500/1500 [==============================] - 6s 4ms/step - loss: 0.2187 - accuracy: 0.9666 - val_loss: 0.2310 - val_accuracy: 0.9613\n",
      "Epoch 176/200\n",
      "1500/1500 [==============================] - 6s 4ms/step - loss: 0.2242 - accuracy: 0.9652 - val_loss: 0.2381 - val_accuracy: 0.9619\n",
      "Epoch 177/200\n",
      "1500/1500 [==============================] - 6s 4ms/step - loss: 0.2194 - accuracy: 0.9654 - val_loss: 0.2436 - val_accuracy: 0.9584\n",
      "Epoch 178/200\n",
      "1500/1500 [==============================] - 6s 4ms/step - loss: 0.2233 - accuracy: 0.9645 - val_loss: 0.2369 - val_accuracy: 0.9613\n",
      "Epoch 179/200\n",
      "1500/1500 [==============================] - 6s 4ms/step - loss: 0.2222 - accuracy: 0.9647 - val_loss: 0.2363 - val_accuracy: 0.9611\n",
      "Epoch 180/200\n",
      "1500/1500 [==============================] - 6s 4ms/step - loss: 0.2225 - accuracy: 0.9643 - val_loss: 0.2705 - val_accuracy: 0.9507\n",
      "Epoch 181/200\n",
      "1500/1500 [==============================] - 5s 4ms/step - loss: 0.2194 - accuracy: 0.9658 - val_loss: 0.2635 - val_accuracy: 0.9519\n",
      "Epoch 182/200\n",
      "1500/1500 [==============================] - 6s 4ms/step - loss: 0.2211 - accuracy: 0.9661 - val_loss: 0.2452 - val_accuracy: 0.9588\n",
      "Epoch 183/200\n",
      "1500/1500 [==============================] - 6s 4ms/step - loss: 0.2186 - accuracy: 0.9657 - val_loss: 0.2277 - val_accuracy: 0.9633\n",
      "Epoch 184/200\n",
      "1500/1500 [==============================] - 6s 4ms/step - loss: 0.2234 - accuracy: 0.9636 - val_loss: 0.2258 - val_accuracy: 0.9644\n",
      "Epoch 185/200\n",
      "1500/1500 [==============================] - 6s 4ms/step - loss: 0.2210 - accuracy: 0.9653 - val_loss: 0.2322 - val_accuracy: 0.9621\n",
      "Epoch 186/200\n",
      "1500/1500 [==============================] - 6s 4ms/step - loss: 0.2206 - accuracy: 0.9647 - val_loss: 0.2327 - val_accuracy: 0.9613\n",
      "Epoch 187/200\n",
      "1500/1500 [==============================] - 6s 4ms/step - loss: 0.2198 - accuracy: 0.9646 - val_loss: 0.2280 - val_accuracy: 0.9648\n",
      "Epoch 188/200\n",
      "1500/1500 [==============================] - 6s 4ms/step - loss: 0.2228 - accuracy: 0.9646 - val_loss: 0.2514 - val_accuracy: 0.9587\n",
      "Epoch 189/200\n",
      "1500/1500 [==============================] - 6s 4ms/step - loss: 0.2191 - accuracy: 0.9657 - val_loss: 0.2556 - val_accuracy: 0.9567\n",
      "Epoch 190/200\n",
      "1500/1500 [==============================] - 6s 4ms/step - loss: 0.2195 - accuracy: 0.9658 - val_loss: 0.2261 - val_accuracy: 0.9636\n",
      "Epoch 191/200\n",
      "1500/1500 [==============================] - 6s 4ms/step - loss: 0.2200 - accuracy: 0.9655 - val_loss: 0.2254 - val_accuracy: 0.9648\n",
      "Epoch 192/200\n",
      "1500/1500 [==============================] - 6s 4ms/step - loss: 0.2218 - accuracy: 0.9649 - val_loss: 0.2451 - val_accuracy: 0.9619\n",
      "Epoch 193/200\n",
      "1500/1500 [==============================] - 6s 4ms/step - loss: 0.2198 - accuracy: 0.9663 - val_loss: 0.2325 - val_accuracy: 0.9631\n",
      "Epoch 194/200\n",
      "1500/1500 [==============================] - 6s 4ms/step - loss: 0.2214 - accuracy: 0.9647 - val_loss: 0.2487 - val_accuracy: 0.9600\n",
      "Epoch 195/200\n",
      "1500/1500 [==============================] - 6s 4ms/step - loss: 0.2176 - accuracy: 0.9660 - val_loss: 0.2442 - val_accuracy: 0.9588\n",
      "Epoch 196/200\n",
      "1500/1500 [==============================] - 6s 4ms/step - loss: 0.2192 - accuracy: 0.9662 - val_loss: 0.2592 - val_accuracy: 0.9545\n",
      "Epoch 197/200\n",
      "1500/1500 [==============================] - 6s 4ms/step - loss: 0.2227 - accuracy: 0.9643 - val_loss: 0.2385 - val_accuracy: 0.9609\n",
      "Epoch 198/200\n",
      "1500/1500 [==============================] - 6s 4ms/step - loss: 0.2194 - accuracy: 0.9657 - val_loss: 0.2490 - val_accuracy: 0.9587\n",
      "Epoch 199/200\n",
      "1500/1500 [==============================] - 6s 4ms/step - loss: 0.2207 - accuracy: 0.9647 - val_loss: 0.2376 - val_accuracy: 0.9604\n",
      "Epoch 200/200\n",
      "1500/1500 [==============================] - 5s 4ms/step - loss: 0.2228 - accuracy: 0.9642 - val_loss: 0.2377 - val_accuracy: 0.9610\n"
     ]
    }
   ],
   "source": [
    "# will take a while\n",
    "history_deepermnist = deepermodel_images.fit(x_train, y_tr_one_hot, epochs=200, batch_size= 32, validation_split = 0.2)"
   ]
  },
  {
   "cell_type": "code",
   "execution_count": 20,
   "metadata": {
    "cell_style": "split",
    "slideshow": {
     "slide_type": "slide"
    }
   },
   "outputs": [
    {
     "name": "stdout",
     "output_type": "stream",
     "text": [
      "313/313 [==============================] - 1s 2ms/step - loss: 0.2282 - accuracy: 0.9635\n"
     ]
    },
    {
     "data": {
      "text/plain": [
       "[0.22815729677677155, 0.9635000228881836]"
      ]
     },
     "execution_count": 20,
     "metadata": {},
     "output_type": "execute_result"
    }
   ],
   "source": [
    "#evaluate test accuracy\n",
    "deepermodel_images.evaluate(x_test, y_tt_one_hot)"
   ]
  },
  {
   "cell_type": "code",
   "execution_count": 21,
   "metadata": {
    "cell_style": "split",
    "slideshow": {
     "slide_type": "fragment"
    }
   },
   "outputs": [
    {
     "data": {
      "image/png": "[encoded data removed]",
      "text/plain": [
       "<Figure size 432x288 with 1 Axes>"
      ]
     },
     "metadata": {
      "needs_background": "light"
     },
     "output_type": "display_data"
    }
   ],
   "source": [
    "train_deepmnist_history = pd.DataFrame(history_deepermnist.history)\n",
    "train_deepmnist_history.index.name = 'epochs'\n",
    "\n",
    "col_list = ['loss', 'val_loss']\n",
    "train_deepmnist_history[col_list].plot()\n",
    "plt.ylabel('Categorical cross entropy')\n",
    "plt.title('Training loss history')\n",
    "plt.show()"
   ]
  },
  {
   "cell_type": "code",
   "execution_count": 22,
   "metadata": {
    "cell_style": "split",
    "slideshow": {
     "slide_type": "slide"
    }
   },
   "outputs": [
    {
     "data": {
      "image/png": "[encoded data removed]",
      "text/plain": [
       "<Figure size 432x288 with 1 Axes>"
      ]
     },
     "metadata": {
      "needs_background": "light"
     },
     "output_type": "display_data"
    }
   ],
   "source": [
    "col_list = ['accuracy', 'val_accuracy']\n",
    "train_deepmnist_history[col_list].plot()\n",
    "plt.ylabel('Accuracy')\n",
    "plt.title('Training loss history')\n",
    "plt.show()"
   ]
  },
  {
   "cell_type": "markdown",
   "metadata": {
    "cell_style": "split",
    "slideshow": {
     "slide_type": "fragment"
    }
   },
   "source": [
    "Not overfitting even while adding much more complexity:\n",
    "- in this case, not gaining much either"
   ]
  },
  {
   "cell_type": "markdown",
   "metadata": {
    "cell_style": "split",
    "slideshow": {
     "slide_type": "fragment"
    }
   },
   "source": [
    "To do better:\n",
    "- try a different regularization technique\n",
    "- may need to think harder about network architecture"
   ]
  },
  {
   "cell_type": "markdown",
   "metadata": {
    "cell_style": "split",
    "slideshow": {
     "slide_type": "slide"
    }
   },
   "source": [
    "#### Dropout Regularization\n",
    "- Architecture based strategy.\n",
    "\n",
    "On each forward/backprop iteration:\n",
    "- given layer with dropout\n",
    "- shut off activations to randomly selected nodes in layer"
   ]
  },
  {
   "cell_type": "markdown",
   "metadata": {
    "cell_style": "split",
    "slideshow": {
     "slide_type": "fragment"
    }
   },
   "source": [
    "![drop_out](images/drop_out.png)"
   ]
  },
  {
   "cell_type": "markdown",
   "metadata": {
    "cell_style": "split",
    "slideshow": {
     "slide_type": "slide"
    }
   },
   "source": [
    "<img src = \"Images/dropout_network.gif\" >"
   ]
  },
  {
   "cell_type": "markdown",
   "metadata": {
    "cell_style": "split",
    "slideshow": {
     "slide_type": "fragment"
    }
   },
   "source": [
    "- Set $p^{[l]}$  uniform probability of node dropout for given layer\n",
    "- each train cycle: kills different activations"
   ]
  },
  {
   "cell_type": "markdown",
   "metadata": {
    "cell_style": "split",
    "slideshow": {
     "slide_type": "fragment"
    }
   },
   "source": [
    "Dead nodes dont contribute to weight updates in backprop."
   ]
  },
  {
   "cell_type": "markdown",
   "metadata": {
    "cell_style": "center",
    "slideshow": {
     "slide_type": "fragment"
    }
   },
   "source": [
    "after many train cycles: have learned weights:\n",
    "- contributions from many different networks learning different things"
   ]
  },
  {
   "cell_type": "markdown",
   "metadata": {
    "cell_style": "split",
    "slideshow": {
     "slide_type": "slide"
    }
   },
   "source": [
    "<img src = \"Images/Deeper_network.jpg\">"
   ]
  },
  {
   "cell_type": "markdown",
   "metadata": {
    "cell_style": "split",
    "slideshow": {
     "slide_type": "fragment"
    }
   },
   "source": [
    "Validation/test phase:\n",
    "- use all nodes and learned weights.\n",
    "- make prediction."
   ]
  },
  {
   "cell_type": "markdown",
   "metadata": {
    "cell_style": "center",
    "slideshow": {
     "slide_type": "slide"
    }
   },
   "source": [
    "**Why it works as regularization**\n",
    "- network learns not to trust in any one subset of weights: unlikely any particular weight subset gets too big.\n",
    "- distributes weights in way that is robust to network noise (random dropout): generalizes well. "
   ]
  },
  {
   "cell_type": "markdown",
   "metadata": {
    "slideshow": {
     "slide_type": "slide"
    }
   },
   "source": [
    "#### Dropout in Keras\n",
    "\n",
    "- Simply add it as though it were a layer. It will apply to the immediately preceding layer."
   ]
  },
  {
   "cell_type": "code",
   "execution_count": 23,
   "metadata": {
    "slideshow": {
     "slide_type": "fragment"
    }
   },
   "outputs": [],
   "source": [
    "from tensorflow.keras.layers import Dropout"
   ]
  },
  {
   "cell_type": "markdown",
   "metadata": {
    "cell_style": "center",
    "slideshow": {
     "slide_type": "slide"
    }
   },
   "source": [
    "Dropout() takes in the dropout probability as a constructor argument:\n",
    "- Dropout($p$) after some of the hidden layers.\n",
    "- $p \\in [0.2, 0.5]$ as good range to try."
   ]
  },
  {
   "cell_type": "code",
   "execution_count": 24,
   "metadata": {
    "slideshow": {
     "slide_type": "subslide"
    }
   },
   "outputs": [],
   "source": [
    "from tensorflow.keras.optimizers import Adam\n",
    "opt = Adam(learning_rate=0.003, beta_1=0.9, beta_2=0.999, epsilon=1e-07) # defalut values"
   ]
  },
  {
   "cell_type": "markdown",
   "metadata": {
    "slideshow": {
     "slide_type": "slide"
    }
   },
   "source": [
    "**Define model**"
   ]
  },
  {
   "cell_type": "code",
   "execution_count": 25,
   "metadata": {
    "cell_style": "split",
    "slideshow": {
     "slide_type": "fragment"
    }
   },
   "outputs": [],
   "source": [
    "model = Sequential()\n",
    "model.add(Flatten(input_shape=(28, 28)))\n",
    "model.add(Dense(20, activation='relu'))\n",
    "model.add(Dropout(0.2)) # dropout on previous activations\n",
    "model.add(Dense(12, activation='relu'))\n",
    "model.add(Dense(12, activation='relu'))\n",
    "model.add(Dropout(0.1)) # dropout\n",
    "model.add(Dense(12, activation='relu'))\n",
    "model.add(Dense(8, activation='relu'))\n",
    "model.add(Dense(10, activation ='softmax'))\n",
    "\n",
    "# compile model\n",
    "model.compile(optimizer=opt, \n",
    "              loss='categorical_crossentropy',\n",
    "              metrics=['accuracy'])"
   ]
  },
  {
   "cell_type": "markdown",
   "metadata": {
    "cell_style": "split",
    "slideshow": {
     "slide_type": "fragment"
    }
   },
   "source": [
    "Some tips:\n",
    "- Dropout earlier in network or inputs. Don't put on final layers.\n",
    "- Try faster learning rates in optimizer"
   ]
  },
  {
   "cell_type": "code",
   "execution_count": 26,
   "metadata": {
    "scrolled": true,
    "slideshow": {
     "slide_type": "slide"
    }
   },
   "outputs": [
    {
     "name": "stdout",
     "output_type": "stream",
     "text": [
      "Epoch 1/200\n",
      "1500/1500 [==============================] - 7s 4ms/step - loss: 1.0613 - accuracy: 0.6139 - val_loss: 0.5456 - val_accuracy: 0.8461\n",
      "Epoch 2/200\n",
      "1500/1500 [==============================] - 5s 4ms/step - loss: 0.7435 - accuracy: 0.7590 - val_loss: 0.4366 - val_accuracy: 0.8862\n",
      "Epoch 3/200\n",
      "1500/1500 [==============================] - 5s 4ms/step - loss: 0.6557 - accuracy: 0.7957 - val_loss: 0.3939 - val_accuracy: 0.8890\n",
      "Epoch 4/200\n",
      "1500/1500 [==============================] - 5s 4ms/step - loss: 0.6088 - accuracy: 0.8106 - val_loss: 0.3773 - val_accuracy: 0.8979\n",
      "Epoch 5/200\n",
      "1500/1500 [==============================] - 5s 4ms/step - loss: 0.5817 - accuracy: 0.8220 - val_loss: 0.3367 - val_accuracy: 0.9106\n",
      "Epoch 6/200\n",
      "1500/1500 [==============================] - 6s 4ms/step - loss: 0.5657 - accuracy: 0.8271 - val_loss: 0.3475 - val_accuracy: 0.9087\n",
      "Epoch 7/200\n",
      "1500/1500 [==============================] - 5s 4ms/step - loss: 0.5597 - accuracy: 0.8277 - val_loss: 0.3259 - val_accuracy: 0.9158\n",
      "Epoch 8/200\n",
      "1500/1500 [==============================] - 5s 4ms/step - loss: 0.5469 - accuracy: 0.8318 - val_loss: 0.3448 - val_accuracy: 0.9137\n",
      "Epoch 9/200\n",
      "1500/1500 [==============================] - 5s 4ms/step - loss: 0.5359 - accuracy: 0.8375 - val_loss: 0.3358 - val_accuracy: 0.9102\n",
      "Epoch 10/200\n",
      "1500/1500 [==============================] - 5s 4ms/step - loss: 0.5207 - accuracy: 0.8400 - val_loss: 0.3293 - val_accuracy: 0.9069\n",
      "Epoch 11/200\n",
      "1500/1500 [==============================] - 5s 3ms/step - loss: 0.5222 - accuracy: 0.8401 - val_loss: 0.3368 - val_accuracy: 0.9086\n",
      "Epoch 12/200\n",
      "1500/1500 [==============================] - 5s 4ms/step - loss: 0.5109 - accuracy: 0.8420 - val_loss: 0.3161 - val_accuracy: 0.9178\n",
      "Epoch 13/200\n",
      "1500/1500 [==============================] - 5s 4ms/step - loss: 0.5051 - accuracy: 0.8447 - val_loss: 0.2973 - val_accuracy: 0.9213\n",
      "Epoch 14/200\n",
      "1500/1500 [==============================] - 5s 3ms/step - loss: 0.4974 - accuracy: 0.8458 - val_loss: 0.3090 - val_accuracy: 0.9173\n",
      "Epoch 15/200\n",
      "1500/1500 [==============================] - 5s 4ms/step - loss: 0.4954 - accuracy: 0.8484 - val_loss: 0.3334 - val_accuracy: 0.9103\n",
      "Epoch 16/200\n",
      "1500/1500 [==============================] - 5s 4ms/step - loss: 0.4890 - accuracy: 0.8505 - val_loss: 0.2998 - val_accuracy: 0.9209\n",
      "Epoch 17/200\n",
      "1500/1500 [==============================] - 5s 4ms/step - loss: 0.4800 - accuracy: 0.8516 - val_loss: 0.2939 - val_accuracy: 0.9199\n",
      "Epoch 18/200\n",
      "1500/1500 [==============================] - 5s 4ms/step - loss: 0.4772 - accuracy: 0.8562 - val_loss: 0.2890 - val_accuracy: 0.9233\n",
      "Epoch 19/200\n",
      "1500/1500 [==============================] - 5s 4ms/step - loss: 0.4739 - accuracy: 0.8566 - val_loss: 0.3017 - val_accuracy: 0.9202\n",
      "Epoch 20/200\n",
      "1500/1500 [==============================] - 5s 3ms/step - loss: 0.4658 - accuracy: 0.8574 - val_loss: 0.2985 - val_accuracy: 0.9227\n",
      "Epoch 21/200\n",
      "1500/1500 [==============================] - 5s 4ms/step - loss: 0.4656 - accuracy: 0.8581 - val_loss: 0.3056 - val_accuracy: 0.9201\n",
      "Epoch 22/200\n",
      "1500/1500 [==============================] - 5s 4ms/step - loss: 0.4607 - accuracy: 0.8592 - val_loss: 0.2782 - val_accuracy: 0.9245\n",
      "Epoch 23/200\n",
      "1500/1500 [==============================] - 5s 3ms/step - loss: 0.4519 - accuracy: 0.8608 - val_loss: 0.2909 - val_accuracy: 0.9231\n",
      "Epoch 24/200\n",
      "1500/1500 [==============================] - 6s 4ms/step - loss: 0.4461 - accuracy: 0.8652 - val_loss: 0.2981 - val_accuracy: 0.9174\n",
      "Epoch 25/200\n",
      "1500/1500 [==============================] - 5s 4ms/step - loss: 0.4436 - accuracy: 0.8646 - val_loss: 0.2955 - val_accuracy: 0.9203\n",
      "Epoch 26/200\n",
      "1500/1500 [==============================] - 5s 3ms/step - loss: 0.4481 - accuracy: 0.8647 - val_loss: 0.3172 - val_accuracy: 0.9167\n",
      "Epoch 27/200\n",
      "1500/1500 [==============================] - 5s 4ms/step - loss: 0.4381 - accuracy: 0.8676 - val_loss: 0.2941 - val_accuracy: 0.9236\n",
      "Epoch 28/200\n",
      "1500/1500 [==============================] - 5s 4ms/step - loss: 0.4399 - accuracy: 0.8680 - val_loss: 0.2857 - val_accuracy: 0.9252\n",
      "Epoch 29/200\n",
      "1500/1500 [==============================] - 5s 3ms/step - loss: 0.4353 - accuracy: 0.8683 - val_loss: 0.2804 - val_accuracy: 0.9263\n",
      "Epoch 30/200\n",
      "1500/1500 [==============================] - 6s 4ms/step - loss: 0.4318 - accuracy: 0.8688 - val_loss: 0.2830 - val_accuracy: 0.9275\n",
      "Epoch 31/200\n",
      "1500/1500 [==============================] - 6s 4ms/step - loss: 0.4383 - accuracy: 0.8675 - val_loss: 0.2956 - val_accuracy: 0.9188\n",
      "Epoch 32/200\n",
      "1500/1500 [==============================] - 5s 3ms/step - loss: 0.4361 - accuracy: 0.8670 - val_loss: 0.2957 - val_accuracy: 0.9230\n",
      "Epoch 33/200\n",
      "1500/1500 [==============================] - 5s 4ms/step - loss: 0.4275 - accuracy: 0.8737 - val_loss: 0.2832 - val_accuracy: 0.9269\n",
      "Epoch 34/200\n",
      "1500/1500 [==============================] - 5s 4ms/step - loss: 0.4244 - accuracy: 0.8724 - val_loss: 0.2787 - val_accuracy: 0.9285\n",
      "Epoch 35/200\n",
      "1500/1500 [==============================] - 5s 3ms/step - loss: 0.4203 - accuracy: 0.8717 - val_loss: 0.2869 - val_accuracy: 0.9252\n",
      "Epoch 36/200\n",
      "1500/1500 [==============================] - 5s 4ms/step - loss: 0.4236 - accuracy: 0.8719 - val_loss: 0.3097 - val_accuracy: 0.9164\n",
      "Epoch 37/200\n",
      "1500/1500 [==============================] - 5s 4ms/step - loss: 0.4182 - accuracy: 0.8745 - val_loss: 0.2836 - val_accuracy: 0.9283\n",
      "Epoch 38/200\n",
      "1500/1500 [==============================] - 5s 3ms/step - loss: 0.4215 - accuracy: 0.8715 - val_loss: 0.2948 - val_accuracy: 0.9205\n",
      "Epoch 39/200\n",
      "1500/1500 [==============================] - 5s 4ms/step - loss: 0.4219 - accuracy: 0.8734 - val_loss: 0.2765 - val_accuracy: 0.9287\n",
      "Epoch 40/200\n",
      "1500/1500 [==============================] - 5s 4ms/step - loss: 0.4218 - accuracy: 0.8721 - val_loss: 0.2754 - val_accuracy: 0.9268\n",
      "Epoch 41/200\n",
      "1500/1500 [==============================] - 5s 4ms/step - loss: 0.4152 - accuracy: 0.8729 - val_loss: 0.2759 - val_accuracy: 0.9298\n",
      "Epoch 42/200\n",
      "1500/1500 [==============================] - 5s 4ms/step - loss: 0.4182 - accuracy: 0.8755 - val_loss: 0.2833 - val_accuracy: 0.9237\n",
      "Epoch 43/200\n",
      "1500/1500 [==============================] - 5s 4ms/step - loss: 0.4155 - accuracy: 0.8747 - val_loss: 0.2913 - val_accuracy: 0.9187\n",
      "Epoch 44/200\n",
      "1500/1500 [==============================] - 5s 3ms/step - loss: 0.4098 - accuracy: 0.8751 - val_loss: 0.2754 - val_accuracy: 0.9286\n",
      "Epoch 45/200\n",
      "1500/1500 [==============================] - 5s 4ms/step - loss: 0.4083 - accuracy: 0.8781 - val_loss: 0.2669 - val_accuracy: 0.9277\n",
      "Epoch 46/200\n",
      "1500/1500 [==============================] - 5s 4ms/step - loss: 0.4090 - accuracy: 0.8767 - val_loss: 0.2931 - val_accuracy: 0.9243\n",
      "Epoch 47/200\n",
      "1500/1500 [==============================] - 5s 3ms/step - loss: 0.4009 - accuracy: 0.8786 - val_loss: 0.2835 - val_accuracy: 0.9238\n",
      "Epoch 48/200\n",
      "1500/1500 [==============================] - 6s 4ms/step - loss: 0.4027 - accuracy: 0.8810 - val_loss: 0.2807 - val_accuracy: 0.9266\n",
      "Epoch 49/200\n",
      "1500/1500 [==============================] - 6s 4ms/step - loss: 0.4057 - accuracy: 0.8780 - val_loss: 0.2888 - val_accuracy: 0.9199\n",
      "Epoch 50/200\n",
      "1500/1500 [==============================] - 5s 3ms/step - loss: 0.4069 - accuracy: 0.8773 - val_loss: 0.2690 - val_accuracy: 0.9297\n",
      "Epoch 51/200\n",
      "1500/1500 [==============================] - 5s 3ms/step - loss: 0.3998 - accuracy: 0.8798 - val_loss: 0.2667 - val_accuracy: 0.9303\n",
      "Epoch 52/200\n",
      "1500/1500 [==============================] - 5s 4ms/step - loss: 0.3980 - accuracy: 0.8817 - val_loss: 0.2893 - val_accuracy: 0.9235\n",
      "Epoch 53/200\n",
      "1500/1500 [==============================] - 5s 3ms/step - loss: 0.3974 - accuracy: 0.8796 - val_loss: 0.2853 - val_accuracy: 0.9260\n",
      "Epoch 54/200\n",
      "1500/1500 [==============================] - 5s 3ms/step - loss: 0.3970 - accuracy: 0.8804 - val_loss: 0.2615 - val_accuracy: 0.9315\n",
      "Epoch 55/200\n",
      "1500/1500 [==============================] - 5s 3ms/step - loss: 0.3965 - accuracy: 0.8789 - val_loss: 0.2782 - val_accuracy: 0.9258\n",
      "Epoch 56/200\n",
      "1500/1500 [==============================] - 5s 3ms/step - loss: 0.3927 - accuracy: 0.8816 - val_loss: 0.2916 - val_accuracy: 0.9209\n",
      "Epoch 57/200\n"
     ]
    },
    {
     "name": "stdout",
     "output_type": "stream",
     "text": [
      "1500/1500 [==============================] - 5s 4ms/step - loss: 0.3911 - accuracy: 0.8797 - val_loss: 0.2790 - val_accuracy: 0.9297\n",
      "Epoch 58/200\n",
      "1500/1500 [==============================] - 5s 4ms/step - loss: 0.3962 - accuracy: 0.8803 - val_loss: 0.2923 - val_accuracy: 0.9247\n",
      "Epoch 59/200\n",
      "1500/1500 [==============================] - 5s 3ms/step - loss: 0.3897 - accuracy: 0.8802 - val_loss: 0.2753 - val_accuracy: 0.9298\n",
      "Epoch 60/200\n",
      "1500/1500 [==============================] - 5s 3ms/step - loss: 0.3913 - accuracy: 0.8830 - val_loss: 0.2855 - val_accuracy: 0.9236\n",
      "Epoch 61/200\n",
      "1500/1500 [==============================] - 5s 3ms/step - loss: 0.3920 - accuracy: 0.8819 - val_loss: 0.2773 - val_accuracy: 0.9273\n",
      "Epoch 62/200\n",
      "1500/1500 [==============================] - 5s 4ms/step - loss: 0.3878 - accuracy: 0.8829 - val_loss: 0.2821 - val_accuracy: 0.9259\n",
      "Epoch 63/200\n",
      "1500/1500 [==============================] - 6s 4ms/step - loss: 0.3892 - accuracy: 0.8815 - val_loss: 0.2712 - val_accuracy: 0.9279\n",
      "Epoch 64/200\n",
      "1500/1500 [==============================] - 5s 4ms/step - loss: 0.3870 - accuracy: 0.8833 - val_loss: 0.2620 - val_accuracy: 0.9293\n",
      "Epoch 65/200\n",
      "1500/1500 [==============================] - 5s 3ms/step - loss: 0.3848 - accuracy: 0.8839 - val_loss: 0.2746 - val_accuracy: 0.9277\n",
      "Epoch 66/200\n",
      "1500/1500 [==============================] - 5s 4ms/step - loss: 0.3856 - accuracy: 0.8828 - val_loss: 0.2692 - val_accuracy: 0.9304\n",
      "Epoch 67/200\n",
      "1500/1500 [==============================] - 5s 4ms/step - loss: 0.3914 - accuracy: 0.8829 - val_loss: 0.2783 - val_accuracy: 0.9242\n",
      "Epoch 68/200\n",
      "1500/1500 [==============================] - 5s 4ms/step - loss: 0.3872 - accuracy: 0.8826 - val_loss: 0.2836 - val_accuracy: 0.9205\n",
      "Epoch 69/200\n",
      "1500/1500 [==============================] - 5s 3ms/step - loss: 0.3862 - accuracy: 0.8828 - val_loss: 0.2816 - val_accuracy: 0.9249\n",
      "Epoch 70/200\n",
      "1500/1500 [==============================] - 6s 4ms/step - loss: 0.3828 - accuracy: 0.8839 - val_loss: 0.2832 - val_accuracy: 0.9255\n",
      "Epoch 71/200\n",
      "1500/1500 [==============================] - 5s 4ms/step - loss: 0.3771 - accuracy: 0.8861 - val_loss: 0.2753 - val_accuracy: 0.9251\n",
      "Epoch 72/200\n",
      "1500/1500 [==============================] - 6s 4ms/step - loss: 0.3851 - accuracy: 0.8833 - val_loss: 0.2726 - val_accuracy: 0.9225\n",
      "Epoch 73/200\n",
      "1500/1500 [==============================] - 6s 4ms/step - loss: 0.3831 - accuracy: 0.8842 - val_loss: 0.2760 - val_accuracy: 0.9265\n",
      "Epoch 74/200\n",
      "1500/1500 [==============================] - 3s 2ms/step - loss: 0.3827 - accuracy: 0.8833 - val_loss: 0.2931 - val_accuracy: 0.9207\n",
      "Epoch 75/200\n",
      "1500/1500 [==============================] - 3s 2ms/step - loss: 0.3753 - accuracy: 0.8861 - val_loss: 0.2692 - val_accuracy: 0.9264\n",
      "Epoch 76/200\n",
      "1500/1500 [==============================] - 3s 2ms/step - loss: 0.3817 - accuracy: 0.8836 - val_loss: 0.2676 - val_accuracy: 0.9283\n",
      "Epoch 77/200\n",
      "1500/1500 [==============================] - 5s 4ms/step - loss: 0.3886 - accuracy: 0.8818 - val_loss: 0.2785 - val_accuracy: 0.9262\n",
      "Epoch 78/200\n",
      "1500/1500 [==============================] - 5s 4ms/step - loss: 0.3770 - accuracy: 0.8866 - val_loss: 0.2744 - val_accuracy: 0.9298\n",
      "Epoch 79/200\n",
      "1500/1500 [==============================] - 5s 4ms/step - loss: 0.3759 - accuracy: 0.8867 - val_loss: 0.2610 - val_accuracy: 0.9299\n",
      "Epoch 80/200\n",
      "1500/1500 [==============================] - 6s 4ms/step - loss: 0.3779 - accuracy: 0.8863 - val_loss: 0.2799 - val_accuracy: 0.9212\n",
      "Epoch 81/200\n",
      "1500/1500 [==============================] - 5s 4ms/step - loss: 0.3775 - accuracy: 0.8864 - val_loss: 0.2736 - val_accuracy: 0.9262\n",
      "Epoch 82/200\n",
      "1500/1500 [==============================] - 5s 4ms/step - loss: 0.3807 - accuracy: 0.8835 - val_loss: 0.2721 - val_accuracy: 0.9256\n",
      "Epoch 83/200\n",
      "1500/1500 [==============================] - 6s 4ms/step - loss: 0.3718 - accuracy: 0.8884 - val_loss: 0.2815 - val_accuracy: 0.9259\n",
      "Epoch 84/200\n",
      "1500/1500 [==============================] - 5s 4ms/step - loss: 0.3775 - accuracy: 0.8859 - val_loss: 0.2681 - val_accuracy: 0.9320\n",
      "Epoch 85/200\n",
      "1500/1500 [==============================] - 6s 4ms/step - loss: 0.3827 - accuracy: 0.8849 - val_loss: 0.2626 - val_accuracy: 0.9314\n",
      "Epoch 86/200\n",
      "1500/1500 [==============================] - 5s 4ms/step - loss: 0.3721 - accuracy: 0.8882 - val_loss: 0.2604 - val_accuracy: 0.9312\n",
      "Epoch 87/200\n",
      "1500/1500 [==============================] - 5s 3ms/step - loss: 0.3682 - accuracy: 0.8905 - val_loss: 0.2805 - val_accuracy: 0.9272\n",
      "Epoch 88/200\n",
      "1500/1500 [==============================] - 5s 4ms/step - loss: 0.3725 - accuracy: 0.8883 - val_loss: 0.2684 - val_accuracy: 0.9305\n",
      "Epoch 89/200\n",
      "1500/1500 [==============================] - 5s 4ms/step - loss: 0.3723 - accuracy: 0.8892 - val_loss: 0.2758 - val_accuracy: 0.9266\n",
      "Epoch 90/200\n",
      "1500/1500 [==============================] - 5s 4ms/step - loss: 0.3700 - accuracy: 0.8896 - val_loss: 0.2670 - val_accuracy: 0.9287\n",
      "Epoch 91/200\n",
      "1500/1500 [==============================] - 5s 4ms/step - loss: 0.3770 - accuracy: 0.8872 - val_loss: 0.2777 - val_accuracy: 0.9266\n",
      "Epoch 92/200\n",
      "1500/1500 [==============================] - 5s 4ms/step - loss: 0.3757 - accuracy: 0.8849 - val_loss: 0.2646 - val_accuracy: 0.9310\n",
      "Epoch 93/200\n",
      "1500/1500 [==============================] - 5s 3ms/step - loss: 0.3774 - accuracy: 0.8855 - val_loss: 0.2772 - val_accuracy: 0.9288\n",
      "Epoch 94/200\n",
      "1500/1500 [==============================] - 6s 4ms/step - loss: 0.3745 - accuracy: 0.8878 - val_loss: 0.2639 - val_accuracy: 0.9306\n",
      "Epoch 95/200\n",
      "1500/1500 [==============================] - 6s 4ms/step - loss: 0.3677 - accuracy: 0.8892 - val_loss: 0.2562 - val_accuracy: 0.9315\n",
      "Epoch 96/200\n",
      "1500/1500 [==============================] - 5s 3ms/step - loss: 0.3689 - accuracy: 0.8880 - val_loss: 0.2724 - val_accuracy: 0.9265\n",
      "Epoch 97/200\n",
      "1500/1500 [==============================] - 5s 4ms/step - loss: 0.3682 - accuracy: 0.8883 - val_loss: 0.2681 - val_accuracy: 0.9283\n",
      "Epoch 98/200\n",
      "1500/1500 [==============================] - 5s 4ms/step - loss: 0.3722 - accuracy: 0.8886 - val_loss: 0.2702 - val_accuracy: 0.9270\n",
      "Epoch 99/200\n",
      "1500/1500 [==============================] - 5s 4ms/step - loss: 0.3696 - accuracy: 0.8890 - val_loss: 0.2754 - val_accuracy: 0.9283\n",
      "Epoch 100/200\n",
      "1500/1500 [==============================] - 6s 4ms/step - loss: 0.3669 - accuracy: 0.8904 - val_loss: 0.2652 - val_accuracy: 0.9280\n",
      "Epoch 101/200\n",
      "1500/1500 [==============================] - 5s 4ms/step - loss: 0.3653 - accuracy: 0.8887 - val_loss: 0.2556 - val_accuracy: 0.9324\n",
      "Epoch 102/200\n",
      "1500/1500 [==============================] - 5s 4ms/step - loss: 0.3610 - accuracy: 0.8905 - val_loss: 0.2650 - val_accuracy: 0.9271\n",
      "Epoch 103/200\n",
      "1500/1500 [==============================] - 5s 4ms/step - loss: 0.3614 - accuracy: 0.8915 - val_loss: 0.2582 - val_accuracy: 0.9323\n",
      "Epoch 104/200\n",
      "1500/1500 [==============================] - 6s 4ms/step - loss: 0.3646 - accuracy: 0.8904 - val_loss: 0.2626 - val_accuracy: 0.9279\n",
      "Epoch 105/200\n",
      "1500/1500 [==============================] - 5s 4ms/step - loss: 0.3669 - accuracy: 0.8890 - val_loss: 0.2621 - val_accuracy: 0.9316\n",
      "Epoch 106/200\n",
      "1500/1500 [==============================] - 6s 4ms/step - loss: 0.3634 - accuracy: 0.8901 - val_loss: 0.2541 - val_accuracy: 0.9322\n",
      "Epoch 107/200\n",
      "1500/1500 [==============================] - 6s 4ms/step - loss: 0.3589 - accuracy: 0.8912 - val_loss: 0.2501 - val_accuracy: 0.9307\n",
      "Epoch 108/200\n",
      "1500/1500 [==============================] - 5s 4ms/step - loss: 0.3673 - accuracy: 0.8904 - val_loss: 0.2565 - val_accuracy: 0.9308\n",
      "Epoch 109/200\n",
      "1500/1500 [==============================] - 6s 4ms/step - loss: 0.3627 - accuracy: 0.8904 - val_loss: 0.2618 - val_accuracy: 0.9270\n",
      "Epoch 110/200\n",
      "1500/1500 [==============================] - 6s 4ms/step - loss: 0.3628 - accuracy: 0.8911 - val_loss: 0.2594 - val_accuracy: 0.9303\n",
      "Epoch 111/200\n",
      "1500/1500 [==============================] - 5s 4ms/step - loss: 0.3639 - accuracy: 0.8879 - val_loss: 0.2552 - val_accuracy: 0.9323\n",
      "Epoch 112/200\n",
      "1500/1500 [==============================] - 6s 4ms/step - loss: 0.3677 - accuracy: 0.8895 - val_loss: 0.2688 - val_accuracy: 0.9283\n",
      "Epoch 113/200\n"
     ]
    },
    {
     "name": "stdout",
     "output_type": "stream",
     "text": [
      "1500/1500 [==============================] - 5s 4ms/step - loss: 0.3633 - accuracy: 0.8907 - val_loss: 0.2644 - val_accuracy: 0.9317\n",
      "Epoch 114/200\n",
      "1500/1500 [==============================] - 5s 4ms/step - loss: 0.3641 - accuracy: 0.8905 - val_loss: 0.2679 - val_accuracy: 0.9284\n",
      "Epoch 115/200\n",
      "1500/1500 [==============================] - 6s 4ms/step - loss: 0.3600 - accuracy: 0.8914 - val_loss: 0.2727 - val_accuracy: 0.9301\n",
      "Epoch 116/200\n",
      "1500/1500 [==============================] - 6s 4ms/step - loss: 0.3609 - accuracy: 0.8927 - val_loss: 0.2643 - val_accuracy: 0.9303\n",
      "Epoch 117/200\n",
      "1500/1500 [==============================] - 5s 4ms/step - loss: 0.3642 - accuracy: 0.8905 - val_loss: 0.2547 - val_accuracy: 0.9324\n",
      "Epoch 118/200\n",
      "1500/1500 [==============================] - 6s 4ms/step - loss: 0.3652 - accuracy: 0.8909 - val_loss: 0.2732 - val_accuracy: 0.9293\n",
      "Epoch 119/200\n",
      "1500/1500 [==============================] - 5s 3ms/step - loss: 0.3674 - accuracy: 0.8905 - val_loss: 0.2622 - val_accuracy: 0.9299\n",
      "Epoch 120/200\n",
      "1500/1500 [==============================] - 5s 3ms/step - loss: 0.3593 - accuracy: 0.8912 - val_loss: 0.2573 - val_accuracy: 0.9326\n",
      "Epoch 121/200\n",
      "1500/1500 [==============================] - 5s 3ms/step - loss: 0.3612 - accuracy: 0.8913 - val_loss: 0.2724 - val_accuracy: 0.9312\n",
      "Epoch 122/200\n",
      "1500/1500 [==============================] - 5s 3ms/step - loss: 0.3570 - accuracy: 0.8923 - val_loss: 0.2567 - val_accuracy: 0.9342\n",
      "Epoch 123/200\n",
      "1500/1500 [==============================] - 5s 3ms/step - loss: 0.3553 - accuracy: 0.8938 - val_loss: 0.2549 - val_accuracy: 0.9331\n",
      "Epoch 124/200\n",
      "1500/1500 [==============================] - 5s 3ms/step - loss: 0.3602 - accuracy: 0.8914 - val_loss: 0.2699 - val_accuracy: 0.9270\n",
      "Epoch 125/200\n",
      "1500/1500 [==============================] - 5s 3ms/step - loss: 0.3588 - accuracy: 0.8929 - val_loss: 0.2648 - val_accuracy: 0.9302\n",
      "Epoch 126/200\n",
      "1500/1500 [==============================] - 5s 3ms/step - loss: 0.3604 - accuracy: 0.8921 - val_loss: 0.2664 - val_accuracy: 0.9304\n",
      "Epoch 127/200\n",
      "1500/1500 [==============================] - 5s 4ms/step - loss: 0.3583 - accuracy: 0.8920 - val_loss: 0.2703 - val_accuracy: 0.9295\n",
      "Epoch 128/200\n",
      "1500/1500 [==============================] - 5s 3ms/step - loss: 0.3618 - accuracy: 0.8914 - val_loss: 0.2623 - val_accuracy: 0.9339\n",
      "Epoch 129/200\n",
      "1500/1500 [==============================] - 5s 3ms/step - loss: 0.3610 - accuracy: 0.8917 - val_loss: 0.2611 - val_accuracy: 0.9348\n",
      "Epoch 130/200\n",
      "1500/1500 [==============================] - 6s 4ms/step - loss: 0.3630 - accuracy: 0.8919 - val_loss: 0.2585 - val_accuracy: 0.9339\n",
      "Epoch 131/200\n",
      "1500/1500 [==============================] - 6s 4ms/step - loss: 0.3576 - accuracy: 0.8926 - val_loss: 0.2646 - val_accuracy: 0.9308\n",
      "Epoch 132/200\n",
      "1500/1500 [==============================] - 5s 3ms/step - loss: 0.3625 - accuracy: 0.8916 - val_loss: 0.2658 - val_accuracy: 0.9304\n",
      "Epoch 133/200\n",
      "1500/1500 [==============================] - 5s 4ms/step - loss: 0.3565 - accuracy: 0.8944 - val_loss: 0.2725 - val_accuracy: 0.9310\n",
      "Epoch 134/200\n",
      "1500/1500 [==============================] - 6s 4ms/step - loss: 0.3556 - accuracy: 0.8936 - val_loss: 0.2524 - val_accuracy: 0.9330\n",
      "Epoch 135/200\n",
      "1500/1500 [==============================] - 5s 4ms/step - loss: 0.3590 - accuracy: 0.8919 - val_loss: 0.2644 - val_accuracy: 0.9286\n",
      "Epoch 136/200\n",
      "1500/1500 [==============================] - 6s 4ms/step - loss: 0.3495 - accuracy: 0.8951 - val_loss: 0.2603 - val_accuracy: 0.9305\n",
      "Epoch 137/200\n",
      "1500/1500 [==============================] - 6s 4ms/step - loss: 0.3574 - accuracy: 0.8932 - val_loss: 0.2597 - val_accuracy: 0.9307\n",
      "Epoch 138/200\n",
      "1500/1500 [==============================] - 5s 3ms/step - loss: 0.3543 - accuracy: 0.8914 - val_loss: 0.2688 - val_accuracy: 0.9273\n",
      "Epoch 139/200\n",
      "1500/1500 [==============================] - 6s 4ms/step - loss: 0.3506 - accuracy: 0.8936 - val_loss: 0.2626 - val_accuracy: 0.9327\n",
      "Epoch 140/200\n",
      "1500/1500 [==============================] - 6s 4ms/step - loss: 0.3551 - accuracy: 0.8928 - val_loss: 0.2654 - val_accuracy: 0.9311\n",
      "Epoch 141/200\n",
      "1500/1500 [==============================] - 5s 4ms/step - loss: 0.3572 - accuracy: 0.8919 - val_loss: 0.2826 - val_accuracy: 0.9300\n",
      "Epoch 142/200\n",
      "1500/1500 [==============================] - 5s 4ms/step - loss: 0.3592 - accuracy: 0.8924 - val_loss: 0.2694 - val_accuracy: 0.9317\n",
      "Epoch 143/200\n",
      "1500/1500 [==============================] - 5s 4ms/step - loss: 0.3604 - accuracy: 0.8907 - val_loss: 0.2675 - val_accuracy: 0.9299\n",
      "Epoch 144/200\n",
      "1500/1500 [==============================] - 5s 4ms/step - loss: 0.3535 - accuracy: 0.8944 - val_loss: 0.2720 - val_accuracy: 0.9299\n",
      "Epoch 145/200\n",
      "1500/1500 [==============================] - 5s 4ms/step - loss: 0.3553 - accuracy: 0.8923 - val_loss: 0.2581 - val_accuracy: 0.9313\n",
      "Epoch 146/200\n",
      "1500/1500 [==============================] - 5s 4ms/step - loss: 0.3551 - accuracy: 0.8926 - val_loss: 0.2585 - val_accuracy: 0.9305\n",
      "Epoch 147/200\n",
      "1500/1500 [==============================] - 5s 4ms/step - loss: 0.3575 - accuracy: 0.8922 - val_loss: 0.2789 - val_accuracy: 0.9268\n",
      "Epoch 148/200\n",
      "1500/1500 [==============================] - 5s 4ms/step - loss: 0.3534 - accuracy: 0.8925 - val_loss: 0.2653 - val_accuracy: 0.9308\n",
      "Epoch 149/200\n",
      "1500/1500 [==============================] - 5s 4ms/step - loss: 0.3493 - accuracy: 0.8926 - val_loss: 0.2613 - val_accuracy: 0.9325\n",
      "Epoch 150/200\n",
      "1500/1500 [==============================] - 5s 3ms/step - loss: 0.3502 - accuracy: 0.8954 - val_loss: 0.2721 - val_accuracy: 0.9294\n",
      "Epoch 151/200\n",
      "1500/1500 [==============================] - 6s 4ms/step - loss: 0.3510 - accuracy: 0.8933 - val_loss: 0.2737 - val_accuracy: 0.9281\n",
      "Epoch 152/200\n",
      "1500/1500 [==============================] - 6s 4ms/step - loss: 0.3519 - accuracy: 0.8933 - val_loss: 0.2621 - val_accuracy: 0.9300\n",
      "Epoch 153/200\n",
      "1500/1500 [==============================] - 5s 4ms/step - loss: 0.3596 - accuracy: 0.8907 - val_loss: 0.2534 - val_accuracy: 0.9336\n",
      "Epoch 154/200\n",
      "1500/1500 [==============================] - 5s 4ms/step - loss: 0.3514 - accuracy: 0.8939 - val_loss: 0.2768 - val_accuracy: 0.9258\n",
      "Epoch 155/200\n",
      "1500/1500 [==============================] - 5s 4ms/step - loss: 0.3573 - accuracy: 0.8907 - val_loss: 0.2768 - val_accuracy: 0.9281\n",
      "Epoch 156/200\n",
      "1500/1500 [==============================] - 5s 4ms/step - loss: 0.3511 - accuracy: 0.8945 - val_loss: 0.2661 - val_accuracy: 0.9308\n",
      "Epoch 157/200\n",
      "1500/1500 [==============================] - 6s 4ms/step - loss: 0.3500 - accuracy: 0.8944 - val_loss: 0.2848 - val_accuracy: 0.9283\n",
      "Epoch 158/200\n",
      "1500/1500 [==============================] - 5s 4ms/step - loss: 0.3554 - accuracy: 0.8928 - val_loss: 0.2666 - val_accuracy: 0.9312\n",
      "Epoch 159/200\n",
      "1500/1500 [==============================] - 5s 4ms/step - loss: 0.3519 - accuracy: 0.8946 - val_loss: 0.2639 - val_accuracy: 0.9294\n",
      "Epoch 160/200\n",
      "1500/1500 [==============================] - 5s 4ms/step - loss: 0.3507 - accuracy: 0.8951 - val_loss: 0.2641 - val_accuracy: 0.9302\n",
      "Epoch 161/200\n",
      "1500/1500 [==============================] - 5s 4ms/step - loss: 0.3561 - accuracy: 0.8921 - val_loss: 0.2619 - val_accuracy: 0.9316\n",
      "Epoch 162/200\n",
      "1500/1500 [==============================] - 5s 3ms/step - loss: 0.3487 - accuracy: 0.8949 - val_loss: 0.2637 - val_accuracy: 0.9280\n",
      "Epoch 163/200\n",
      "1500/1500 [==============================] - 6s 4ms/step - loss: 0.3494 - accuracy: 0.8956 - val_loss: 0.2772 - val_accuracy: 0.9332\n",
      "Epoch 164/200\n",
      "1500/1500 [==============================] - 5s 3ms/step - loss: 0.3503 - accuracy: 0.8943 - val_loss: 0.2691 - val_accuracy: 0.9299\n",
      "Epoch 165/200\n",
      "1500/1500 [==============================] - 5s 3ms/step - loss: 0.3514 - accuracy: 0.8937 - val_loss: 0.2734 - val_accuracy: 0.9317\n",
      "Epoch 166/200\n",
      "1500/1500 [==============================] - 5s 3ms/step - loss: 0.3454 - accuracy: 0.8955 - val_loss: 0.2623 - val_accuracy: 0.9296\n",
      "Epoch 167/200\n",
      "1500/1500 [==============================] - 5s 3ms/step - loss: 0.3500 - accuracy: 0.8944 - val_loss: 0.2715 - val_accuracy: 0.9312\n",
      "Epoch 168/200\n",
      "1500/1500 [==============================] - 5s 3ms/step - loss: 0.3453 - accuracy: 0.8950 - val_loss: 0.2658 - val_accuracy: 0.9302\n"
     ]
    },
    {
     "name": "stdout",
     "output_type": "stream",
     "text": [
      "Epoch 169/200\n",
      "1500/1500 [==============================] - 5s 4ms/step - loss: 0.3537 - accuracy: 0.8938 - val_loss: 0.2662 - val_accuracy: 0.9308\n",
      "Epoch 170/200\n",
      "1500/1500 [==============================] - 5s 3ms/step - loss: 0.3512 - accuracy: 0.8937 - val_loss: 0.2751 - val_accuracy: 0.9266\n",
      "Epoch 171/200\n",
      "1500/1500 [==============================] - 5s 3ms/step - loss: 0.3490 - accuracy: 0.8946 - val_loss: 0.2611 - val_accuracy: 0.9323\n",
      "Epoch 172/200\n",
      "1500/1500 [==============================] - 5s 3ms/step - loss: 0.3491 - accuracy: 0.8946 - val_loss: 0.2584 - val_accuracy: 0.9327\n",
      "Epoch 173/200\n",
      "1500/1500 [==============================] - 5s 3ms/step - loss: 0.3491 - accuracy: 0.8937 - val_loss: 0.2631 - val_accuracy: 0.9323\n",
      "Epoch 174/200\n",
      "1500/1500 [==============================] - 5s 3ms/step - loss: 0.3491 - accuracy: 0.8952 - val_loss: 0.2629 - val_accuracy: 0.9300\n",
      "Epoch 175/200\n",
      "1500/1500 [==============================] - 5s 3ms/step - loss: 0.3511 - accuracy: 0.8936 - val_loss: 0.2815 - val_accuracy: 0.9258\n",
      "Epoch 176/200\n",
      "1500/1500 [==============================] - 5s 3ms/step - loss: 0.3571 - accuracy: 0.8910 - val_loss: 0.2687 - val_accuracy: 0.9283\n",
      "Epoch 177/200\n",
      "1500/1500 [==============================] - 5s 3ms/step - loss: 0.3524 - accuracy: 0.8929 - val_loss: 0.2599 - val_accuracy: 0.9323\n",
      "Epoch 178/200\n",
      "1500/1500 [==============================] - 5s 3ms/step - loss: 0.3504 - accuracy: 0.8952 - val_loss: 0.2605 - val_accuracy: 0.9317\n",
      "Epoch 179/200\n",
      "1500/1500 [==============================] - 5s 3ms/step - loss: 0.3443 - accuracy: 0.8973 - val_loss: 0.2703 - val_accuracy: 0.9280\n",
      "Epoch 180/200\n",
      "1500/1500 [==============================] - 5s 3ms/step - loss: 0.3501 - accuracy: 0.8949 - val_loss: 0.2636 - val_accuracy: 0.9304\n",
      "Epoch 181/200\n",
      "1500/1500 [==============================] - 5s 4ms/step - loss: 0.3522 - accuracy: 0.8943 - val_loss: 0.2804 - val_accuracy: 0.9262\n",
      "Epoch 182/200\n",
      "1500/1500 [==============================] - 5s 4ms/step - loss: 0.3478 - accuracy: 0.8962 - val_loss: 0.2614 - val_accuracy: 0.9302\n",
      "Epoch 183/200\n",
      "1500/1500 [==============================] - 5s 3ms/step - loss: 0.3488 - accuracy: 0.8958 - val_loss: 0.2705 - val_accuracy: 0.9314\n",
      "Epoch 184/200\n",
      "1500/1500 [==============================] - 5s 4ms/step - loss: 0.3479 - accuracy: 0.8946 - val_loss: 0.2575 - val_accuracy: 0.9323\n",
      "Epoch 185/200\n",
      "1500/1500 [==============================] - 5s 4ms/step - loss: 0.3482 - accuracy: 0.8948 - val_loss: 0.2606 - val_accuracy: 0.9322\n",
      "Epoch 186/200\n",
      "1500/1500 [==============================] - 5s 3ms/step - loss: 0.3540 - accuracy: 0.8945 - val_loss: 0.2629 - val_accuracy: 0.9305\n",
      "Epoch 187/200\n",
      "1500/1500 [==============================] - 5s 4ms/step - loss: 0.3437 - accuracy: 0.8977 - val_loss: 0.2562 - val_accuracy: 0.9327\n",
      "Epoch 188/200\n",
      "1500/1500 [==============================] - 5s 4ms/step - loss: 0.3481 - accuracy: 0.8947 - val_loss: 0.2707 - val_accuracy: 0.9278\n",
      "Epoch 189/200\n",
      "1500/1500 [==============================] - 5s 3ms/step - loss: 0.3478 - accuracy: 0.8956 - val_loss: 0.2638 - val_accuracy: 0.9292\n",
      "Epoch 190/200\n",
      "1500/1500 [==============================] - 5s 4ms/step - loss: 0.3407 - accuracy: 0.8953 - val_loss: 0.2694 - val_accuracy: 0.9308\n",
      "Epoch 191/200\n",
      "1500/1500 [==============================] - 6s 4ms/step - loss: 0.3477 - accuracy: 0.8971 - val_loss: 0.2718 - val_accuracy: 0.9307\n",
      "Epoch 192/200\n",
      "1500/1500 [==============================] - 5s 4ms/step - loss: 0.3470 - accuracy: 0.8958 - val_loss: 0.2721 - val_accuracy: 0.9308\n",
      "Epoch 193/200\n",
      "1500/1500 [==============================] - 6s 4ms/step - loss: 0.3515 - accuracy: 0.8944 - val_loss: 0.2742 - val_accuracy: 0.9257\n",
      "Epoch 194/200\n",
      "1500/1500 [==============================] - 5s 4ms/step - loss: 0.3477 - accuracy: 0.8958 - val_loss: 0.2874 - val_accuracy: 0.9284\n",
      "Epoch 195/200\n",
      "1500/1500 [==============================] - 5s 4ms/step - loss: 0.3501 - accuracy: 0.8942 - val_loss: 0.2590 - val_accuracy: 0.9330\n",
      "Epoch 196/200\n",
      "1500/1500 [==============================] - 6s 4ms/step - loss: 0.3404 - accuracy: 0.8974 - val_loss: 0.2745 - val_accuracy: 0.9276\n",
      "Epoch 197/200\n",
      "1500/1500 [==============================] - 5s 4ms/step - loss: 0.3411 - accuracy: 0.8981 - val_loss: 0.2603 - val_accuracy: 0.9314\n",
      "Epoch 198/200\n",
      "1500/1500 [==============================] - 5s 4ms/step - loss: 0.3455 - accuracy: 0.8959 - val_loss: 0.2729 - val_accuracy: 0.9283\n",
      "Epoch 199/200\n",
      "1500/1500 [==============================] - 5s 4ms/step - loss: 0.3440 - accuracy: 0.8974 - val_loss: 0.2644 - val_accuracy: 0.9330\n",
      "Epoch 200/200\n",
      "1500/1500 [==============================] - 5s 4ms/step - loss: 0.3444 - accuracy: 0.8981 - val_loss: 0.2734 - val_accuracy: 0.9303\n"
     ]
    }
   ],
   "source": [
    "# will take a while\n",
    "history_dropoutmnist = model.fit(x_train, y_tr_one_hot, epochs=200, batch_size= 32, validation_split = 0.2)"
   ]
  },
  {
   "cell_type": "markdown",
   "metadata": {
    "cell_style": "split",
    "slideshow": {
     "slide_type": "slide"
    }
   },
   "source": [
    "Accuracy on train set will be lower in any given cycle:\n",
    "- some activation killed randomly on training.\n",
    "\n",
    "Performance on validation will be high:\n",
    "- uses full network with learned weights for validation"
   ]
  },
  {
   "cell_type": "markdown",
   "metadata": {
    "cell_style": "split",
    "slideshow": {
     "slide_type": "slide"
    }
   },
   "source": [
    "Not overtraining despite high model capacity:\n",
    "- many hidden layers"
   ]
  },
  {
   "cell_type": "code",
   "execution_count": 27,
   "metadata": {
    "cell_style": "split",
    "slideshow": {
     "slide_type": "fragment"
    }
   },
   "outputs": [
    {
     "data": {
      "image/png": "[encoded data removed]",
      "text/plain": [
       "<Figure size 432x288 with 1 Axes>"
      ]
     },
     "metadata": {
      "needs_background": "light"
     },
     "output_type": "display_data"
    }
   ],
   "source": [
    "train_dropoutmnist_history = pd.DataFrame(history_dropoutmnist.history)\n",
    "train_dropoutmnist_history.index.name = 'epochs'\n",
    "\n",
    "col_list = ['loss', 'val_loss']\n",
    "train_dropoutmnist_history[col_list].plot()\n",
    "plt.ylabel('Categorical cross entropy')\n",
    "plt.title('Training loss history')\n",
    "plt.show() # this is underfitting in most cases, but because we used dropout here this is not though of as underfitting"
   ]
  },
  {
   "cell_type": "code",
   "execution_count": 28,
   "metadata": {
    "cell_style": "split",
    "slideshow": {
     "slide_type": "slide"
    }
   },
   "outputs": [
    {
     "data": {
      "image/png": "[encoded data removed]",
      "text/plain": [
       "<Figure size 432x288 with 1 Axes>"
      ]
     },
     "metadata": {
      "needs_background": "light"
     },
     "output_type": "display_data"
    }
   ],
   "source": [
    "col_list = ['accuracy', 'val_accuracy']\n",
    "train_dropoutmnist_history[col_list].plot()\n",
    "plt.ylabel('Accuracy')\n",
    "plt.title('Training loss history')\n",
    "plt.show()"
   ]
  },
  {
   "cell_type": "markdown",
   "metadata": {
    "cell_style": "split",
    "slideshow": {
     "slide_type": "fragment"
    }
   },
   "source": [
    "Evaluate on test set."
   ]
  },
  {
   "cell_type": "code",
   "execution_count": 29,
   "metadata": {
    "cell_style": "split",
    "slideshow": {
     "slide_type": "fragment"
    }
   },
   "outputs": [
    {
     "data": {
      "text/plain": [
       "[0.28434672951698303, 0.9286999702453613]"
      ]
     },
     "execution_count": 29,
     "metadata": {},
     "output_type": "execute_result"
    }
   ],
   "source": [
    "model.evaluate(x_test, y_tt_one_hot, verbose =0) "
   ]
  },
  {
   "cell_type": "markdown",
   "metadata": {
    "slideshow": {
     "slide_type": "slide"
    }
   },
   "source": [
    "#### Dropout regularization in conjunction with L2:\n",
    "\n",
    "- can be used to train very deep networks\n",
    "- model complex relationships without overfitting\n",
    "- works best in these cases with a lot of data"
   ]
  },
  {
   "cell_type": "markdown",
   "metadata": {
    "slideshow": {
     "slide_type": "slide"
    }
   },
   "source": [
    "Next up:\n",
    "- doing much better with a more suitable network architecture\n",
    "- Convolutional Neural Networks (CNNs)"
   ]
  }
 ],
 "metadata": {
  "celltoolbar": "Slideshow",
  "colab": {
   "collapsed_sections": [],
   "name": "intro-to-keras.ipynb",
   "provenance": []
  },
  "kernelspec": {
   "display_name": "Python 3 (ipykernel)",
   "language": "python",
   "name": "python3"
  },
  "language_info": {
   "codemirror_mode": {
    "name": "ipython",
    "version": 3
   },
   "file_extension": ".py",
   "mimetype": "text/x-python",
   "name": "python",
   "nbconvert_exporter": "python",
   "pygments_lexer": "ipython3",
   "version": "3.9.12"
  }
 },
 "nbformat": 4,
 "nbformat_minor": 4
}
